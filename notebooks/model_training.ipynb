{
 "cells": [
  {
   "cell_type": "code",
   "execution_count": 26,
   "id": "13fb60e9",
   "metadata": {},
   "outputs": [],
   "source": [
    "# import ultralytics\n",
    "# from ultralytics import YOLO\n",
    "from ultralytics import YOLO\n",
    "import cv2\n",
    "import numpy as np\n",
    "from roboflow import Roboflow\n",
    "\n",
    "from pathlib import Path\n",
    "import random\n",
    "import shutil\n",
    "import torch"
   ]
  },
  {
   "cell_type": "markdown",
   "id": "fe90c3e9",
   "metadata": {},
   "source": [
    "# download dataset"
   ]
  },
  {
   "cell_type": "code",
   "execution_count": 2,
   "id": "9702c72b",
   "metadata": {},
   "outputs": [
    {
     "data": {
      "text/plain": [
       "PosixPath('/Users/anassyed/Documents/lynqo/notebooks')"
      ]
     },
     "execution_count": 2,
     "metadata": {},
     "output_type": "execute_result"
    }
   ],
   "source": [
    "# current path print \n",
    "Path.cwd().resolve()"
   ]
  },
  {
   "cell_type": "code",
   "execution_count": 3,
   "id": "d3d811f4",
   "metadata": {},
   "outputs": [
    {
     "name": "stdout",
     "output_type": "stream",
     "text": [
      "Dataset folder already exists, skipping download.\n"
     ]
    }
   ],
   "source": [
    "PATH_TO_DADASET = Path(\"../datasets/Surgical-Tools-Detection-1\")\n",
    "if not PATH_TO_DADASET.exists():\n",
    "    rf = Roboflow(api_key=\"P9o0JjFVWdK2Z3nzefUI\")\n",
    "    project = rf.workspace(\"northeastern-university-yu4fz\").project(\"surgical-tools-detection-c8b3w\")\n",
    "    version = project.version(1)\n",
    "    dataset = version.download(\"yolov11\")\n",
    "else:\n",
    "    print(\"Dataset folder already exists, skipping download.\")\n",
    "                "
   ]
  },
  {
   "cell_type": "code",
   "execution_count": 71,
   "id": "8d8a50a7",
   "metadata": {},
   "outputs": [
    {
     "name": "stdout",
     "output_type": "stream",
     "text": [
      "Instrument names: {'0': 'Mayo-Hegar needle holder', '1': 'Adson tissue forceps (plain thumb forceps)', '2': 'Sponge-holding (Foerster) forceps', '3': 'Kelly hemostat (straight)', '4': 'DeBakey tissue forceps', '5': 'Mosquito hemostat (straight)', '6': 'Weitlaner self-retaining retractor', '7': 'Surgical scissors (e.g. Metzenbaum/Mayo scissors)', '8': 'Kelly hemostat (curved)', '9': 'Mixter (right-angle) hemostat', '10': 'Bone hook', '11': 'Lister (bandage) scissors', '12': 'Tissue forceps (dressing forceps)', '13': 'Kocher (Ochsner) forceps', '14': 'Frazier suction tip', '15': 'Electrocautery (\"Bovie\") pencil', '16': 'Scalpel (No. 3 handle with blade)', '17': 'Kelly hemostat (long)'}\n"
     ]
    }
   ],
   "source": [
    "# getting the instrument names from config.json \n",
    "config_path = PATH_TO_DADASET / \"config.json\"\n",
    "with open(config_path, 'r') as f:\n",
    "    config = f.read()\n",
    "    config = eval(config)  # Convert string to dictionary\n",
    "    instrument_names = config['SURGICAL_INSTRUMENTS']\n",
    "    print(\"Instrument names:\", instrument_names)\n"
   ]
  },
  {
   "cell_type": "markdown",
   "id": "a9d4977d",
   "metadata": {},
   "source": [
    "After augmentation"
   ]
  },
  {
   "cell_type": "code",
   "execution_count": 14,
   "id": "c578483d",
   "metadata": {},
   "outputs": [
    {
     "name": "stdout",
     "output_type": "stream",
     "text": [
      "Original images: 17789\n",
      "Augmented images: 35417\n",
      "Total images: 53206\n"
     ]
    }
   ],
   "source": [
    "# Setup paths for original and augmented data\n",
    "train_img_dir = PATH_TO_DADASET / 'train' / 'images'\n",
    "train_aug_dir = PATH_TO_DADASET / 'train' / 'images_aug'\n",
    "train_lbl_dir = PATH_TO_DADASET / 'train' / 'labels'\n",
    "train_lbl_aug_dir = PATH_TO_DADASET / 'train' / 'labels_aug'\n",
    "\n",
    "# Get all images (both original and augmented)\n",
    "all_images = list(train_img_dir.glob('*.jpg'))\n",
    "all_aug_images = list(train_aug_dir.glob('*.jpg'))\n",
    "total_images = len(all_images) + len(all_aug_images)\n",
    "subset_size = int(total_images * 0.25)  # 25% of total\n",
    "\n",
    "print(f\"Original images: {len(all_images)}\")\n",
    "print(f\"Augmented images: {len(all_aug_images)}\")\n",
    "print(f\"Total images: {total_images}\")\n"
   ]
  },
  {
   "cell_type": "code",
   "execution_count": 17,
   "id": "0dcb462e",
   "metadata": {},
   "outputs": [],
   "source": [
    "# Create subset directories\n",
    "subset_size = int(total_images * 0.10) # 10% of total\n",
    "subset_dir = PATH_TO_DADASET / 'train_subset'\n",
    "subset_img_dir = subset_dir / 'images'\n",
    "subset_lbl_dir = subset_dir / 'labels'\n",
    "\n",
    "subset_img_dir.mkdir(parents=True, exist_ok=True)\n",
    "subset_lbl_dir.mkdir(parents=True, exist_ok=True)\n",
    "\n",
    "# Randomly select from both original and augmented\n",
    "random.seed(42)  # for reproducibility\n",
    "combined_images = all_images + all_aug_images\n",
    "selected_images = random.sample(combined_images, subset_size)"
   ]
  },
  {
   "cell_type": "code",
   "execution_count": 18,
   "id": "cab4d25d",
   "metadata": {},
   "outputs": [
    {
     "name": "stdout",
     "output_type": "stream",
     "text": [
      "\n",
      "Created subset dataset at: ../datasets/Surgical-Tools-Detection-1/train_subset\n"
     ]
    }
   ],
   "source": [
    "# Copy selected files\n",
    "for img_path in selected_images:\n",
    "    # Copy image\n",
    "    shutil.copy2(img_path, subset_img_dir)\n",
    "    \n",
    "    # Determine correct label directory based on image source\n",
    "    if 'images_aug' in str(img_path):\n",
    "        lbl_dir = train_lbl_aug_dir\n",
    "    else:\n",
    "        lbl_dir = train_lbl_dir\n",
    "        \n",
    "    # Copy corresponding label\n",
    "    lbl_path = lbl_dir / f\"{img_path.stem}.txt\"\n",
    "    if lbl_path.exists():\n",
    "        shutil.copy2(lbl_path, subset_lbl_dir)\n",
    "\n",
    "print(f\"\\nCreated subset dataset at: {subset_dir}\")"
   ]
  },
  {
   "cell_type": "code",
   "execution_count": 19,
   "id": "ab77dda0",
   "metadata": {},
   "outputs": [],
   "source": [
    "# Create modified yaml for subset training\n",
    "import yaml\n",
    "\n",
    "yaml_path = PATH_TO_DADASET / 'data.yaml'\n",
    "subset_yaml_path = PATH_TO_DADASET / 'data_subset.yaml'\n",
    "\n",
    "with open(yaml_path) as f:\n",
    "    yaml_data = yaml.safe_load(f)\n",
    "\n",
    "# Update train path to use subset\n",
    "yaml_data['train'] = str(subset_img_dir.relative_to(PATH_TO_DADASET))\n",
    "\n",
    "with open(subset_yaml_path, 'w') as f:\n",
    "    yaml.dump(yaml_data, f)"
   ]
  },
  {
   "cell_type": "code",
   "execution_count": 20,
   "id": "72c96067",
   "metadata": {},
   "outputs": [],
   "source": [
    "# Initialize YOLO model for training\n",
    "model = YOLO(\"yolo11n.pt\")\n"
   ]
  },
  {
   "cell_type": "code",
   "execution_count": 24,
   "id": "b8541870",
   "metadata": {},
   "outputs": [],
   "source": [
    "use_subset = True  # Set to True to use the subset dataset\n",
    "if use_subset:\n",
    "    data_path = subset_yaml_path\n",
    "else:\n",
    "    data_path = yaml_path"
   ]
  },
  {
   "cell_type": "code",
   "execution_count": 25,
   "id": "a0d039d1",
   "metadata": {},
   "outputs": [
    {
     "name": "stdout",
     "output_type": "stream",
     "text": [
      "Ultralytics 8.3.146 🚀 Python-3.11.11 torch-2.7.0 CPU (Apple M2)\n",
      "\u001b[34m\u001b[1mengine/trainer: \u001b[0magnostic_nms=False, amp=True, augment=False, auto_augment=randaugment, batch=16, bgr=0.0, box=7.5, cache=False, cfg=None, classes=None, close_mosaic=10, cls=0.5, conf=None, copy_paste=0.0, copy_paste_mode=flip, cos_lr=False, cutmix=0.0, data=../datasets/Surgical-Tools-Detection-1/data_subset.yaml, degrees=0.0, deterministic=True, device=cpu, dfl=1.5, dnn=False, dropout=0.0, dynamic=False, embed=None, epochs=5, erasing=0.4, exist_ok=False, fliplr=0.5, flipud=0.0, format=torchscript, fraction=1.0, freeze=None, half=False, hsv_h=0.015, hsv_s=0.7, hsv_v=0.4, imgsz=416, int8=False, iou=0.7, keras=False, kobj=1.0, line_width=None, lr0=0.01, lrf=0.01, mask_ratio=4, max_det=300, mixup=0.0, mode=train, model=yolo11n.pt, momentum=0.937, mosaic=1.0, multi_scale=False, name=train9, nbs=64, nms=False, opset=None, optimize=False, optimizer=auto, overlap_mask=True, patience=50, perspective=0.0, plots=True, pose=12.0, pretrained=True, profile=False, project=None, rect=False, resume=False, retina_masks=False, save=True, save_conf=False, save_crop=False, save_dir=/Users/anassyed/Documents/lynqo/runs/detect/train9, save_frames=False, save_json=False, save_period=-1, save_txt=False, scale=0.5, seed=0, shear=0.0, show=False, show_boxes=True, show_conf=True, show_labels=True, simplify=True, single_cls=False, source=None, split=val, stream_buffer=False, task=detect, time=None, tracker=botsort.yaml, translate=0.1, val=True, verbose=True, vid_stride=1, visualize=False, warmup_bias_lr=0.1, warmup_epochs=3.0, warmup_momentum=0.8, weight_decay=0.0005, workers=8, workspace=None\n",
      "Overriding model.yaml nc=80 with nc=18\n",
      "\n",
      "                   from  n    params  module                                       arguments                     \n",
      "  0                  -1  1       464  ultralytics.nn.modules.conv.Conv             [3, 16, 3, 2]                 \n",
      "  1                  -1  1      4672  ultralytics.nn.modules.conv.Conv             [16, 32, 3, 2]                \n",
      "  2                  -1  1      6640  ultralytics.nn.modules.block.C3k2            [32, 64, 1, False, 0.25]      \n",
      "  3                  -1  1     36992  ultralytics.nn.modules.conv.Conv             [64, 64, 3, 2]                \n",
      "  4                  -1  1     26080  ultralytics.nn.modules.block.C3k2            [64, 128, 1, False, 0.25]     \n",
      "  5                  -1  1    147712  ultralytics.nn.modules.conv.Conv             [128, 128, 3, 2]              \n",
      "  6                  -1  1     87040  ultralytics.nn.modules.block.C3k2            [128, 128, 1, True]           \n",
      "  7                  -1  1    295424  ultralytics.nn.modules.conv.Conv             [128, 256, 3, 2]              \n",
      "  8                  -1  1    346112  ultralytics.nn.modules.block.C3k2            [256, 256, 1, True]           \n",
      "  9                  -1  1    164608  ultralytics.nn.modules.block.SPPF            [256, 256, 5]                 \n",
      " 10                  -1  1    249728  ultralytics.nn.modules.block.C2PSA           [256, 256, 1]                 \n",
      " 11                  -1  1         0  torch.nn.modules.upsampling.Upsample         [None, 2, 'nearest']          \n",
      " 12             [-1, 6]  1         0  ultralytics.nn.modules.conv.Concat           [1]                           \n",
      " 13                  -1  1    111296  ultralytics.nn.modules.block.C3k2            [384, 128, 1, False]          \n",
      " 14                  -1  1         0  torch.nn.modules.upsampling.Upsample         [None, 2, 'nearest']          \n",
      " 15             [-1, 4]  1         0  ultralytics.nn.modules.conv.Concat           [1]                           \n",
      " 16                  -1  1     32096  ultralytics.nn.modules.block.C3k2            [256, 64, 1, False]           \n",
      " 17                  -1  1     36992  ultralytics.nn.modules.conv.Conv             [64, 64, 3, 2]                \n",
      " 18            [-1, 13]  1         0  ultralytics.nn.modules.conv.Concat           [1]                           \n",
      " 19                  -1  1     86720  ultralytics.nn.modules.block.C3k2            [192, 128, 1, False]          \n",
      " 20                  -1  1    147712  ultralytics.nn.modules.conv.Conv             [128, 128, 3, 2]              \n",
      " 21            [-1, 10]  1         0  ultralytics.nn.modules.conv.Concat           [1]                           \n",
      " 22                  -1  1    378880  ultralytics.nn.modules.block.C3k2            [384, 256, 1, True]           \n",
      " 23        [16, 19, 22]  1    434182  ultralytics.nn.modules.head.Detect           [18, [64, 128, 256]]          \n",
      "YOLO11n summary: 181 layers, 2,593,350 parameters, 2,593,334 gradients, 6.5 GFLOPs\n",
      "\n",
      "Transferred 448/499 items from pretrained weights\n",
      "Freezing layer 'model.23.dfl.conv.weight'\n",
      "\u001b[34m\u001b[1mtrain: \u001b[0mFast image access ✅ (ping: 0.0±0.0 ms, read: 513.1±561.3 MB/s, size: 266.1 KB)\n"
     ]
    },
    {
     "name": "stderr",
     "output_type": "stream",
     "text": [
      "\u001b[34m\u001b[1mtrain: \u001b[0mScanning /Users/anassyed/Documents/lynqo/datasets/Surgical-Tools-Detection-1/train_subset/labels... 5320 images, 0 backgrounds, 0 corrupt: 100%|██████████| 5320/5320 [00:00<00:00, 6854.49it/s]"
     ]
    },
    {
     "name": "stdout",
     "output_type": "stream",
     "text": [
      "\u001b[34m\u001b[1mtrain: \u001b[0m/Users/anassyed/Documents/lynqo/datasets/Surgical-Tools-Detection-1/train_subset/images/Add_labelled00295_jpg.rf.a6fad8291ea70bd9ffd28b1e51de1838_aug0.jpg: 1 duplicate labels removed\n",
      "\u001b[34m\u001b[1mtrain: \u001b[0m/Users/anassyed/Documents/lynqo/datasets/Surgical-Tools-Detection-1/train_subset/images/Add_labelled00519_jpg.rf.7d55bd7f4c6161616bb9ff9c81173677_aug0.jpg: 1 duplicate labels removed\n",
      "\u001b[34m\u001b[1mtrain: \u001b[0m/Users/anassyed/Documents/lynqo/datasets/Surgical-Tools-Detection-1/train_subset/images/Add_labelled00695_jpg.rf.4e8710dc23e98c473cc20402c9eccd1c_aug1.jpg: 1 duplicate labels removed\n"
     ]
    },
    {
     "name": "stderr",
     "output_type": "stream",
     "text": [
      "\n"
     ]
    },
    {
     "name": "stdout",
     "output_type": "stream",
     "text": [
      "\u001b[34m\u001b[1mtrain: \u001b[0mNew cache created: /Users/anassyed/Documents/lynqo/datasets/Surgical-Tools-Detection-1/train_subset/labels.cache\n",
      "\u001b[34m\u001b[1malbumentations: \u001b[0mBlur(p=0.01, blur_limit=(3, 7)), MedianBlur(p=0.01, blur_limit=(3, 7)), ToGray(p=0.01, method='weighted_average', num_output_channels=3), CLAHE(p=0.01, clip_limit=(1.0, 4.0), tile_grid_size=(8, 8))\n",
      "\u001b[34m\u001b[1mval: \u001b[0mFast image access ✅ (ping: 0.1±0.1 ms, read: 55.9±50.7 MB/s, size: 10.1 KB)\n"
     ]
    },
    {
     "name": "stderr",
     "output_type": "stream",
     "text": [
      "\u001b[34m\u001b[1mval: \u001b[0mScanning /Users/anassyed/Documents/lynqo/datasets/Surgical-Tools-Detection-1/valid/labels.cache... 1980 images, 0 backgrounds, 0 corrupt: 100%|██████████| 1980/1980 [00:00<?, ?it/s]\n"
     ]
    },
    {
     "name": "stdout",
     "output_type": "stream",
     "text": [
      "Plotting labels to /Users/anassyed/Documents/lynqo/runs/detect/train9/labels.jpg... \n",
      "\u001b[34m\u001b[1moptimizer:\u001b[0m 'optimizer=auto' found, ignoring 'lr0=0.01' and 'momentum=0.937' and determining best 'optimizer', 'lr0' and 'momentum' automatically... \n",
      "\u001b[34m\u001b[1moptimizer:\u001b[0m AdamW(lr=0.000455, momentum=0.9) with parameter groups 81 weight(decay=0.0), 88 weight(decay=0.0005), 87 bias(decay=0.0)\n",
      "Image sizes 416 train, 416 val\n",
      "Using 0 dataloader workers\n",
      "Logging results to \u001b[1m/Users/anassyed/Documents/lynqo/runs/detect/train9\u001b[0m\n",
      "Starting training for 5 epochs...\n",
      "\n",
      "      Epoch    GPU_mem   box_loss   cls_loss   dfl_loss  Instances       Size\n"
     ]
    },
    {
     "name": "stderr",
     "output_type": "stream",
     "text": [
      "        1/5         0G      1.384      3.973      1.465         12        416: 100%|██████████| 333/333 [15:50<00:00,  2.85s/it]\n",
      "                 Class     Images  Instances      Box(P          R      mAP50  mAP50-95): 100%|██████████| 62/62 [02:13<00:00,  2.15s/it]"
     ]
    },
    {
     "name": "stdout",
     "output_type": "stream",
     "text": [
      "                   all       1980       2551     0.0845      0.308     0.0892     0.0639\n"
     ]
    },
    {
     "name": "stderr",
     "output_type": "stream",
     "text": [
      "\n"
     ]
    },
    {
     "name": "stdout",
     "output_type": "stream",
     "text": [
      "\n",
      "      Epoch    GPU_mem   box_loss   cls_loss   dfl_loss  Instances       Size\n"
     ]
    },
    {
     "name": "stderr",
     "output_type": "stream",
     "text": [
      "        2/5         0G      1.357      3.321      1.392         19        416: 100%|██████████| 333/333 [15:45<00:00,  2.84s/it]\n",
      "                 Class     Images  Instances      Box(P          R      mAP50  mAP50-95): 100%|██████████| 62/62 [02:16<00:00,  2.21s/it]"
     ]
    },
    {
     "name": "stdout",
     "output_type": "stream",
     "text": [
      "                   all       1980       2551      0.146      0.383      0.151      0.102\n"
     ]
    },
    {
     "name": "stderr",
     "output_type": "stream",
     "text": [
      "\n"
     ]
    },
    {
     "name": "stdout",
     "output_type": "stream",
     "text": [
      "\n",
      "      Epoch    GPU_mem   box_loss   cls_loss   dfl_loss  Instances       Size\n"
     ]
    },
    {
     "name": "stderr",
     "output_type": "stream",
     "text": [
      "        3/5         0G      1.292      3.065      1.355         12        416: 100%|██████████| 333/333 [15:47<00:00,  2.85s/it]\n",
      "                 Class     Images  Instances      Box(P          R      mAP50  mAP50-95): 100%|██████████| 62/62 [02:09<00:00,  2.09s/it]"
     ]
    },
    {
     "name": "stdout",
     "output_type": "stream",
     "text": [
      "                   all       1980       2551      0.207      0.459      0.223      0.168\n"
     ]
    },
    {
     "name": "stderr",
     "output_type": "stream",
     "text": [
      "\n"
     ]
    },
    {
     "name": "stdout",
     "output_type": "stream",
     "text": [
      "\n",
      "      Epoch    GPU_mem   box_loss   cls_loss   dfl_loss  Instances       Size\n"
     ]
    },
    {
     "name": "stderr",
     "output_type": "stream",
     "text": [
      "        4/5         0G      1.233      2.889       1.31         25        416: 100%|██████████| 333/333 [35:28<00:00,  6.39s/it]    \n",
      "                 Class     Images  Instances      Box(P          R      mAP50  mAP50-95): 100%|██████████| 62/62 [02:16<00:00,  2.21s/it]"
     ]
    },
    {
     "name": "stdout",
     "output_type": "stream",
     "text": [
      "                   all       1980       2551      0.209       0.52      0.251      0.201\n"
     ]
    },
    {
     "name": "stderr",
     "output_type": "stream",
     "text": [
      "\n"
     ]
    },
    {
     "name": "stdout",
     "output_type": "stream",
     "text": [
      "\n",
      "      Epoch    GPU_mem   box_loss   cls_loss   dfl_loss  Instances       Size\n"
     ]
    },
    {
     "name": "stderr",
     "output_type": "stream",
     "text": [
      "        5/5         0G      1.169      2.782      1.279         12        416: 100%|██████████| 333/333 [16:30<00:00,  2.97s/it]\n",
      "                 Class     Images  Instances      Box(P          R      mAP50  mAP50-95): 100%|██████████| 62/62 [02:36<00:00,  2.53s/it]"
     ]
    },
    {
     "name": "stdout",
     "output_type": "stream",
     "text": [
      "                   all       1980       2551      0.242      0.526      0.285      0.235\n"
     ]
    },
    {
     "name": "stderr",
     "output_type": "stream",
     "text": [
      "\n"
     ]
    },
    {
     "name": "stdout",
     "output_type": "stream",
     "text": [
      "\n",
      "5 epochs completed in 1.849 hours.\n",
      "Optimizer stripped from /Users/anassyed/Documents/lynqo/runs/detect/train9/weights/last.pt, 5.4MB\n",
      "Optimizer stripped from /Users/anassyed/Documents/lynqo/runs/detect/train9/weights/best.pt, 5.4MB\n",
      "\n",
      "Validating /Users/anassyed/Documents/lynqo/runs/detect/train9/weights/best.pt...\n",
      "Ultralytics 8.3.146 🚀 Python-3.11.11 torch-2.7.0 CPU (Apple M2)\n",
      "YOLO11n summary (fused): 100 layers, 2,585,662 parameters, 0 gradients, 6.3 GFLOPs\n"
     ]
    },
    {
     "name": "stderr",
     "output_type": "stream",
     "text": [
      "                 Class     Images  Instances      Box(P          R      mAP50  mAP50-95): 100%|██████████| 62/62 [02:08<00:00,  2.07s/it]\n"
     ]
    },
    {
     "name": "stdout",
     "output_type": "stream",
     "text": [
      "                   all       1980       2551      0.241      0.528      0.284      0.235\n",
      "                     0        176        195      0.206      0.769      0.287      0.261\n",
      "                     1         74        102      0.231      0.549      0.211      0.172\n",
      "                    10         92        105      0.446      0.486       0.48       0.33\n",
      "                    11        172        197      0.312      0.772      0.695      0.575\n",
      "                    12        100        127      0.166     0.0866      0.187      0.157\n",
      "                    13        109        117      0.223      0.735      0.337      0.298\n",
      "                    14         96        113      0.188      0.469      0.144      0.129\n",
      "                    15        107        107      0.402      0.991      0.511      0.347\n",
      "                    16         80         80      0.266          1      0.339      0.248\n",
      "                    17         94         94      0.308      0.362      0.266      0.256\n",
      "                     2        100        127      0.153      0.189      0.133      0.116\n",
      "                     3        116        173          0          0     0.0905     0.0621\n",
      "                     4        102        118      0.264       0.61      0.255      0.201\n",
      "                     5        211        304      0.289      0.543      0.336      0.302\n",
      "                     6        121        137      0.261      0.482      0.242      0.222\n",
      "                     7        134        155      0.204      0.419      0.213      0.191\n",
      "                     8         99        133      0.227      0.325      0.151      0.142\n",
      "                     9        162        167      0.189      0.713      0.243      0.226\n",
      "Speed: 0.4ms preprocess, 62.1ms inference, 0.0ms loss, 0.5ms postprocess per image\n",
      "Results saved to \u001b[1m/Users/anassyed/Documents/lynqo/runs/detect/train9\u001b[0m\n"
     ]
    },
    {
     "data": {
      "text/plain": [
       "ultralytics.utils.metrics.DetMetrics object with attributes:\n",
       "\n",
       "ap_class_index: array([ 0,  1,  2,  3,  4,  5,  6,  7,  8,  9, 10, 11, 12, 13, 14, 15, 16, 17])\n",
       "box: ultralytics.utils.metrics.Metric object\n",
       "confusion_matrix: <ultralytics.utils.metrics.ConfusionMatrix object at 0x31ca9e990>\n",
       "curves: ['Precision-Recall(B)', 'F1-Confidence(B)', 'Precision-Confidence(B)', 'Recall-Confidence(B)']\n",
       "curves_results: [[array([          0,    0.001001,    0.002002,    0.003003,    0.004004,    0.005005,    0.006006,    0.007007,    0.008008,    0.009009,     0.01001,    0.011011,    0.012012,    0.013013,    0.014014,    0.015015,    0.016016,    0.017017,    0.018018,    0.019019,     0.02002,    0.021021,    0.022022,    0.023023,\n",
       "          0.024024,    0.025025,    0.026026,    0.027027,    0.028028,    0.029029,     0.03003,    0.031031,    0.032032,    0.033033,    0.034034,    0.035035,    0.036036,    0.037037,    0.038038,    0.039039,     0.04004,    0.041041,    0.042042,    0.043043,    0.044044,    0.045045,    0.046046,    0.047047,\n",
       "          0.048048,    0.049049,     0.05005,    0.051051,    0.052052,    0.053053,    0.054054,    0.055055,    0.056056,    0.057057,    0.058058,    0.059059,     0.06006,    0.061061,    0.062062,    0.063063,    0.064064,    0.065065,    0.066066,    0.067067,    0.068068,    0.069069,     0.07007,    0.071071,\n",
       "          0.072072,    0.073073,    0.074074,    0.075075,    0.076076,    0.077077,    0.078078,    0.079079,     0.08008,    0.081081,    0.082082,    0.083083,    0.084084,    0.085085,    0.086086,    0.087087,    0.088088,    0.089089,     0.09009,    0.091091,    0.092092,    0.093093,    0.094094,    0.095095,\n",
       "          0.096096,    0.097097,    0.098098,    0.099099,      0.1001,      0.1011,      0.1021,      0.1031,      0.1041,     0.10511,     0.10611,     0.10711,     0.10811,     0.10911,     0.11011,     0.11111,     0.11211,     0.11311,     0.11411,     0.11512,     0.11612,     0.11712,     0.11812,     0.11912,\n",
       "           0.12012,     0.12112,     0.12212,     0.12312,     0.12412,     0.12513,     0.12613,     0.12713,     0.12813,     0.12913,     0.13013,     0.13113,     0.13213,     0.13313,     0.13413,     0.13514,     0.13614,     0.13714,     0.13814,     0.13914,     0.14014,     0.14114,     0.14214,     0.14314,\n",
       "           0.14414,     0.14515,     0.14615,     0.14715,     0.14815,     0.14915,     0.15015,     0.15115,     0.15215,     0.15315,     0.15415,     0.15516,     0.15616,     0.15716,     0.15816,     0.15916,     0.16016,     0.16116,     0.16216,     0.16316,     0.16416,     0.16517,     0.16617,     0.16717,\n",
       "           0.16817,     0.16917,     0.17017,     0.17117,     0.17217,     0.17317,     0.17417,     0.17518,     0.17618,     0.17718,     0.17818,     0.17918,     0.18018,     0.18118,     0.18218,     0.18318,     0.18418,     0.18519,     0.18619,     0.18719,     0.18819,     0.18919,     0.19019,     0.19119,\n",
       "           0.19219,     0.19319,     0.19419,      0.1952,      0.1962,      0.1972,      0.1982,      0.1992,      0.2002,      0.2012,      0.2022,      0.2032,      0.2042,     0.20521,     0.20621,     0.20721,     0.20821,     0.20921,     0.21021,     0.21121,     0.21221,     0.21321,     0.21421,     0.21522,\n",
       "           0.21622,     0.21722,     0.21822,     0.21922,     0.22022,     0.22122,     0.22222,     0.22322,     0.22422,     0.22523,     0.22623,     0.22723,     0.22823,     0.22923,     0.23023,     0.23123,     0.23223,     0.23323,     0.23423,     0.23524,     0.23624,     0.23724,     0.23824,     0.23924,\n",
       "           0.24024,     0.24124,     0.24224,     0.24324,     0.24424,     0.24525,     0.24625,     0.24725,     0.24825,     0.24925,     0.25025,     0.25125,     0.25225,     0.25325,     0.25425,     0.25526,     0.25626,     0.25726,     0.25826,     0.25926,     0.26026,     0.26126,     0.26226,     0.26326,\n",
       "           0.26426,     0.26527,     0.26627,     0.26727,     0.26827,     0.26927,     0.27027,     0.27127,     0.27227,     0.27327,     0.27427,     0.27528,     0.27628,     0.27728,     0.27828,     0.27928,     0.28028,     0.28128,     0.28228,     0.28328,     0.28428,     0.28529,     0.28629,     0.28729,\n",
       "           0.28829,     0.28929,     0.29029,     0.29129,     0.29229,     0.29329,     0.29429,      0.2953,      0.2963,      0.2973,      0.2983,      0.2993,      0.3003,      0.3013,      0.3023,      0.3033,      0.3043,     0.30531,     0.30631,     0.30731,     0.30831,     0.30931,     0.31031,     0.31131,\n",
       "           0.31231,     0.31331,     0.31431,     0.31532,     0.31632,     0.31732,     0.31832,     0.31932,     0.32032,     0.32132,     0.32232,     0.32332,     0.32432,     0.32533,     0.32633,     0.32733,     0.32833,     0.32933,     0.33033,     0.33133,     0.33233,     0.33333,     0.33433,     0.33534,\n",
       "           0.33634,     0.33734,     0.33834,     0.33934,     0.34034,     0.34134,     0.34234,     0.34334,     0.34434,     0.34535,     0.34635,     0.34735,     0.34835,     0.34935,     0.35035,     0.35135,     0.35235,     0.35335,     0.35435,     0.35536,     0.35636,     0.35736,     0.35836,     0.35936,\n",
       "           0.36036,     0.36136,     0.36236,     0.36336,     0.36436,     0.36537,     0.36637,     0.36737,     0.36837,     0.36937,     0.37037,     0.37137,     0.37237,     0.37337,     0.37437,     0.37538,     0.37638,     0.37738,     0.37838,     0.37938,     0.38038,     0.38138,     0.38238,     0.38338,\n",
       "           0.38438,     0.38539,     0.38639,     0.38739,     0.38839,     0.38939,     0.39039,     0.39139,     0.39239,     0.39339,     0.39439,      0.3954,      0.3964,      0.3974,      0.3984,      0.3994,      0.4004,      0.4014,      0.4024,      0.4034,      0.4044,     0.40541,     0.40641,     0.40741,\n",
       "           0.40841,     0.40941,     0.41041,     0.41141,     0.41241,     0.41341,     0.41441,     0.41542,     0.41642,     0.41742,     0.41842,     0.41942,     0.42042,     0.42142,     0.42242,     0.42342,     0.42442,     0.42543,     0.42643,     0.42743,     0.42843,     0.42943,     0.43043,     0.43143,\n",
       "           0.43243,     0.43343,     0.43443,     0.43544,     0.43644,     0.43744,     0.43844,     0.43944,     0.44044,     0.44144,     0.44244,     0.44344,     0.44444,     0.44545,     0.44645,     0.44745,     0.44845,     0.44945,     0.45045,     0.45145,     0.45245,     0.45345,     0.45445,     0.45546,\n",
       "           0.45646,     0.45746,     0.45846,     0.45946,     0.46046,     0.46146,     0.46246,     0.46346,     0.46446,     0.46547,     0.46647,     0.46747,     0.46847,     0.46947,     0.47047,     0.47147,     0.47247,     0.47347,     0.47447,     0.47548,     0.47648,     0.47748,     0.47848,     0.47948,\n",
       "           0.48048,     0.48148,     0.48248,     0.48348,     0.48448,     0.48549,     0.48649,     0.48749,     0.48849,     0.48949,     0.49049,     0.49149,     0.49249,     0.49349,     0.49449,      0.4955,      0.4965,      0.4975,      0.4985,      0.4995,      0.5005,      0.5015,      0.5025,      0.5035,\n",
       "            0.5045,     0.50551,     0.50651,     0.50751,     0.50851,     0.50951,     0.51051,     0.51151,     0.51251,     0.51351,     0.51451,     0.51552,     0.51652,     0.51752,     0.51852,     0.51952,     0.52052,     0.52152,     0.52252,     0.52352,     0.52452,     0.52553,     0.52653,     0.52753,\n",
       "           0.52853,     0.52953,     0.53053,     0.53153,     0.53253,     0.53353,     0.53453,     0.53554,     0.53654,     0.53754,     0.53854,     0.53954,     0.54054,     0.54154,     0.54254,     0.54354,     0.54454,     0.54555,     0.54655,     0.54755,     0.54855,     0.54955,     0.55055,     0.55155,\n",
       "           0.55255,     0.55355,     0.55455,     0.55556,     0.55656,     0.55756,     0.55856,     0.55956,     0.56056,     0.56156,     0.56256,     0.56356,     0.56456,     0.56557,     0.56657,     0.56757,     0.56857,     0.56957,     0.57057,     0.57157,     0.57257,     0.57357,     0.57457,     0.57558,\n",
       "           0.57658,     0.57758,     0.57858,     0.57958,     0.58058,     0.58158,     0.58258,     0.58358,     0.58458,     0.58559,     0.58659,     0.58759,     0.58859,     0.58959,     0.59059,     0.59159,     0.59259,     0.59359,     0.59459,      0.5956,      0.5966,      0.5976,      0.5986,      0.5996,\n",
       "            0.6006,      0.6016,      0.6026,      0.6036,      0.6046,     0.60561,     0.60661,     0.60761,     0.60861,     0.60961,     0.61061,     0.61161,     0.61261,     0.61361,     0.61461,     0.61562,     0.61662,     0.61762,     0.61862,     0.61962,     0.62062,     0.62162,     0.62262,     0.62362,\n",
       "           0.62462,     0.62563,     0.62663,     0.62763,     0.62863,     0.62963,     0.63063,     0.63163,     0.63263,     0.63363,     0.63463,     0.63564,     0.63664,     0.63764,     0.63864,     0.63964,     0.64064,     0.64164,     0.64264,     0.64364,     0.64464,     0.64565,     0.64665,     0.64765,\n",
       "           0.64865,     0.64965,     0.65065,     0.65165,     0.65265,     0.65365,     0.65465,     0.65566,     0.65666,     0.65766,     0.65866,     0.65966,     0.66066,     0.66166,     0.66266,     0.66366,     0.66466,     0.66567,     0.66667,     0.66767,     0.66867,     0.66967,     0.67067,     0.67167,\n",
       "           0.67267,     0.67367,     0.67467,     0.67568,     0.67668,     0.67768,     0.67868,     0.67968,     0.68068,     0.68168,     0.68268,     0.68368,     0.68468,     0.68569,     0.68669,     0.68769,     0.68869,     0.68969,     0.69069,     0.69169,     0.69269,     0.69369,     0.69469,      0.6957,\n",
       "            0.6967,      0.6977,      0.6987,      0.6997,      0.7007,      0.7017,      0.7027,      0.7037,      0.7047,     0.70571,     0.70671,     0.70771,     0.70871,     0.70971,     0.71071,     0.71171,     0.71271,     0.71371,     0.71471,     0.71572,     0.71672,     0.71772,     0.71872,     0.71972,\n",
       "           0.72072,     0.72172,     0.72272,     0.72372,     0.72472,     0.72573,     0.72673,     0.72773,     0.72873,     0.72973,     0.73073,     0.73173,     0.73273,     0.73373,     0.73473,     0.73574,     0.73674,     0.73774,     0.73874,     0.73974,     0.74074,     0.74174,     0.74274,     0.74374,\n",
       "           0.74474,     0.74575,     0.74675,     0.74775,     0.74875,     0.74975,     0.75075,     0.75175,     0.75275,     0.75375,     0.75475,     0.75576,     0.75676,     0.75776,     0.75876,     0.75976,     0.76076,     0.76176,     0.76276,     0.76376,     0.76476,     0.76577,     0.76677,     0.76777,\n",
       "           0.76877,     0.76977,     0.77077,     0.77177,     0.77277,     0.77377,     0.77477,     0.77578,     0.77678,     0.77778,     0.77878,     0.77978,     0.78078,     0.78178,     0.78278,     0.78378,     0.78478,     0.78579,     0.78679,     0.78779,     0.78879,     0.78979,     0.79079,     0.79179,\n",
       "           0.79279,     0.79379,     0.79479,      0.7958,      0.7968,      0.7978,      0.7988,      0.7998,      0.8008,      0.8018,      0.8028,      0.8038,      0.8048,     0.80581,     0.80681,     0.80781,     0.80881,     0.80981,     0.81081,     0.81181,     0.81281,     0.81381,     0.81481,     0.81582,\n",
       "           0.81682,     0.81782,     0.81882,     0.81982,     0.82082,     0.82182,     0.82282,     0.82382,     0.82482,     0.82583,     0.82683,     0.82783,     0.82883,     0.82983,     0.83083,     0.83183,     0.83283,     0.83383,     0.83483,     0.83584,     0.83684,     0.83784,     0.83884,     0.83984,\n",
       "           0.84084,     0.84184,     0.84284,     0.84384,     0.84484,     0.84585,     0.84685,     0.84785,     0.84885,     0.84985,     0.85085,     0.85185,     0.85285,     0.85385,     0.85485,     0.85586,     0.85686,     0.85786,     0.85886,     0.85986,     0.86086,     0.86186,     0.86286,     0.86386,\n",
       "           0.86486,     0.86587,     0.86687,     0.86787,     0.86887,     0.86987,     0.87087,     0.87187,     0.87287,     0.87387,     0.87487,     0.87588,     0.87688,     0.87788,     0.87888,     0.87988,     0.88088,     0.88188,     0.88288,     0.88388,     0.88488,     0.88589,     0.88689,     0.88789,\n",
       "           0.88889,     0.88989,     0.89089,     0.89189,     0.89289,     0.89389,     0.89489,      0.8959,      0.8969,      0.8979,      0.8989,      0.8999,      0.9009,      0.9019,      0.9029,      0.9039,      0.9049,     0.90591,     0.90691,     0.90791,     0.90891,     0.90991,     0.91091,     0.91191,\n",
       "           0.91291,     0.91391,     0.91491,     0.91592,     0.91692,     0.91792,     0.91892,     0.91992,     0.92092,     0.92192,     0.92292,     0.92392,     0.92492,     0.92593,     0.92693,     0.92793,     0.92893,     0.92993,     0.93093,     0.93193,     0.93293,     0.93393,     0.93493,     0.93594,\n",
       "           0.93694,     0.93794,     0.93894,     0.93994,     0.94094,     0.94194,     0.94294,     0.94394,     0.94494,     0.94595,     0.94695,     0.94795,     0.94895,     0.94995,     0.95095,     0.95195,     0.95295,     0.95395,     0.95495,     0.95596,     0.95696,     0.95796,     0.95896,     0.95996,\n",
       "           0.96096,     0.96196,     0.96296,     0.96396,     0.96496,     0.96597,     0.96697,     0.96797,     0.96897,     0.96997,     0.97097,     0.97197,     0.97297,     0.97397,     0.97497,     0.97598,     0.97698,     0.97798,     0.97898,     0.97998,     0.98098,     0.98198,     0.98298,     0.98398,\n",
       "           0.98498,     0.98599,     0.98699,     0.98799,     0.98899,     0.98999,     0.99099,     0.99199,     0.99299,     0.99399,     0.99499,       0.996,       0.997,       0.998,       0.999,           1]), array([[        0.5,         0.5,         0.5, ...,   0.0027063,   0.0013532,           0],\n",
       "       [     0.3494,      0.3494,      0.3494, ...,  0.00034707,  0.00017353,           0],\n",
       "       [          1,           1,           1, ...,  0.00048026,  0.00024013,           0],\n",
       "       ...,\n",
       "       [          1,           1,           1, ...,   0.0026092,   0.0013046,           0],\n",
       "       [    0.33333,     0.33333,     0.33333, ...,  7.5043e-05,  3.7522e-05,           0],\n",
       "       [    0.31176,     0.31176,     0.31176, ...,   0.0056888,   0.0028444,           0]], shape=(18, 1000)), 'Recall', 'Precision'], [array([          0,    0.001001,    0.002002,    0.003003,    0.004004,    0.005005,    0.006006,    0.007007,    0.008008,    0.009009,     0.01001,    0.011011,    0.012012,    0.013013,    0.014014,    0.015015,    0.016016,    0.017017,    0.018018,    0.019019,     0.02002,    0.021021,    0.022022,    0.023023,\n",
       "          0.024024,    0.025025,    0.026026,    0.027027,    0.028028,    0.029029,     0.03003,    0.031031,    0.032032,    0.033033,    0.034034,    0.035035,    0.036036,    0.037037,    0.038038,    0.039039,     0.04004,    0.041041,    0.042042,    0.043043,    0.044044,    0.045045,    0.046046,    0.047047,\n",
       "          0.048048,    0.049049,     0.05005,    0.051051,    0.052052,    0.053053,    0.054054,    0.055055,    0.056056,    0.057057,    0.058058,    0.059059,     0.06006,    0.061061,    0.062062,    0.063063,    0.064064,    0.065065,    0.066066,    0.067067,    0.068068,    0.069069,     0.07007,    0.071071,\n",
       "          0.072072,    0.073073,    0.074074,    0.075075,    0.076076,    0.077077,    0.078078,    0.079079,     0.08008,    0.081081,    0.082082,    0.083083,    0.084084,    0.085085,    0.086086,    0.087087,    0.088088,    0.089089,     0.09009,    0.091091,    0.092092,    0.093093,    0.094094,    0.095095,\n",
       "          0.096096,    0.097097,    0.098098,    0.099099,      0.1001,      0.1011,      0.1021,      0.1031,      0.1041,     0.10511,     0.10611,     0.10711,     0.10811,     0.10911,     0.11011,     0.11111,     0.11211,     0.11311,     0.11411,     0.11512,     0.11612,     0.11712,     0.11812,     0.11912,\n",
       "           0.12012,     0.12112,     0.12212,     0.12312,     0.12412,     0.12513,     0.12613,     0.12713,     0.12813,     0.12913,     0.13013,     0.13113,     0.13213,     0.13313,     0.13413,     0.13514,     0.13614,     0.13714,     0.13814,     0.13914,     0.14014,     0.14114,     0.14214,     0.14314,\n",
       "           0.14414,     0.14515,     0.14615,     0.14715,     0.14815,     0.14915,     0.15015,     0.15115,     0.15215,     0.15315,     0.15415,     0.15516,     0.15616,     0.15716,     0.15816,     0.15916,     0.16016,     0.16116,     0.16216,     0.16316,     0.16416,     0.16517,     0.16617,     0.16717,\n",
       "           0.16817,     0.16917,     0.17017,     0.17117,     0.17217,     0.17317,     0.17417,     0.17518,     0.17618,     0.17718,     0.17818,     0.17918,     0.18018,     0.18118,     0.18218,     0.18318,     0.18418,     0.18519,     0.18619,     0.18719,     0.18819,     0.18919,     0.19019,     0.19119,\n",
       "           0.19219,     0.19319,     0.19419,      0.1952,      0.1962,      0.1972,      0.1982,      0.1992,      0.2002,      0.2012,      0.2022,      0.2032,      0.2042,     0.20521,     0.20621,     0.20721,     0.20821,     0.20921,     0.21021,     0.21121,     0.21221,     0.21321,     0.21421,     0.21522,\n",
       "           0.21622,     0.21722,     0.21822,     0.21922,     0.22022,     0.22122,     0.22222,     0.22322,     0.22422,     0.22523,     0.22623,     0.22723,     0.22823,     0.22923,     0.23023,     0.23123,     0.23223,     0.23323,     0.23423,     0.23524,     0.23624,     0.23724,     0.23824,     0.23924,\n",
       "           0.24024,     0.24124,     0.24224,     0.24324,     0.24424,     0.24525,     0.24625,     0.24725,     0.24825,     0.24925,     0.25025,     0.25125,     0.25225,     0.25325,     0.25425,     0.25526,     0.25626,     0.25726,     0.25826,     0.25926,     0.26026,     0.26126,     0.26226,     0.26326,\n",
       "           0.26426,     0.26527,     0.26627,     0.26727,     0.26827,     0.26927,     0.27027,     0.27127,     0.27227,     0.27327,     0.27427,     0.27528,     0.27628,     0.27728,     0.27828,     0.27928,     0.28028,     0.28128,     0.28228,     0.28328,     0.28428,     0.28529,     0.28629,     0.28729,\n",
       "           0.28829,     0.28929,     0.29029,     0.29129,     0.29229,     0.29329,     0.29429,      0.2953,      0.2963,      0.2973,      0.2983,      0.2993,      0.3003,      0.3013,      0.3023,      0.3033,      0.3043,     0.30531,     0.30631,     0.30731,     0.30831,     0.30931,     0.31031,     0.31131,\n",
       "           0.31231,     0.31331,     0.31431,     0.31532,     0.31632,     0.31732,     0.31832,     0.31932,     0.32032,     0.32132,     0.32232,     0.32332,     0.32432,     0.32533,     0.32633,     0.32733,     0.32833,     0.32933,     0.33033,     0.33133,     0.33233,     0.33333,     0.33433,     0.33534,\n",
       "           0.33634,     0.33734,     0.33834,     0.33934,     0.34034,     0.34134,     0.34234,     0.34334,     0.34434,     0.34535,     0.34635,     0.34735,     0.34835,     0.34935,     0.35035,     0.35135,     0.35235,     0.35335,     0.35435,     0.35536,     0.35636,     0.35736,     0.35836,     0.35936,\n",
       "           0.36036,     0.36136,     0.36236,     0.36336,     0.36436,     0.36537,     0.36637,     0.36737,     0.36837,     0.36937,     0.37037,     0.37137,     0.37237,     0.37337,     0.37437,     0.37538,     0.37638,     0.37738,     0.37838,     0.37938,     0.38038,     0.38138,     0.38238,     0.38338,\n",
       "           0.38438,     0.38539,     0.38639,     0.38739,     0.38839,     0.38939,     0.39039,     0.39139,     0.39239,     0.39339,     0.39439,      0.3954,      0.3964,      0.3974,      0.3984,      0.3994,      0.4004,      0.4014,      0.4024,      0.4034,      0.4044,     0.40541,     0.40641,     0.40741,\n",
       "           0.40841,     0.40941,     0.41041,     0.41141,     0.41241,     0.41341,     0.41441,     0.41542,     0.41642,     0.41742,     0.41842,     0.41942,     0.42042,     0.42142,     0.42242,     0.42342,     0.42442,     0.42543,     0.42643,     0.42743,     0.42843,     0.42943,     0.43043,     0.43143,\n",
       "           0.43243,     0.43343,     0.43443,     0.43544,     0.43644,     0.43744,     0.43844,     0.43944,     0.44044,     0.44144,     0.44244,     0.44344,     0.44444,     0.44545,     0.44645,     0.44745,     0.44845,     0.44945,     0.45045,     0.45145,     0.45245,     0.45345,     0.45445,     0.45546,\n",
       "           0.45646,     0.45746,     0.45846,     0.45946,     0.46046,     0.46146,     0.46246,     0.46346,     0.46446,     0.46547,     0.46647,     0.46747,     0.46847,     0.46947,     0.47047,     0.47147,     0.47247,     0.47347,     0.47447,     0.47548,     0.47648,     0.47748,     0.47848,     0.47948,\n",
       "           0.48048,     0.48148,     0.48248,     0.48348,     0.48448,     0.48549,     0.48649,     0.48749,     0.48849,     0.48949,     0.49049,     0.49149,     0.49249,     0.49349,     0.49449,      0.4955,      0.4965,      0.4975,      0.4985,      0.4995,      0.5005,      0.5015,      0.5025,      0.5035,\n",
       "            0.5045,     0.50551,     0.50651,     0.50751,     0.50851,     0.50951,     0.51051,     0.51151,     0.51251,     0.51351,     0.51451,     0.51552,     0.51652,     0.51752,     0.51852,     0.51952,     0.52052,     0.52152,     0.52252,     0.52352,     0.52452,     0.52553,     0.52653,     0.52753,\n",
       "           0.52853,     0.52953,     0.53053,     0.53153,     0.53253,     0.53353,     0.53453,     0.53554,     0.53654,     0.53754,     0.53854,     0.53954,     0.54054,     0.54154,     0.54254,     0.54354,     0.54454,     0.54555,     0.54655,     0.54755,     0.54855,     0.54955,     0.55055,     0.55155,\n",
       "           0.55255,     0.55355,     0.55455,     0.55556,     0.55656,     0.55756,     0.55856,     0.55956,     0.56056,     0.56156,     0.56256,     0.56356,     0.56456,     0.56557,     0.56657,     0.56757,     0.56857,     0.56957,     0.57057,     0.57157,     0.57257,     0.57357,     0.57457,     0.57558,\n",
       "           0.57658,     0.57758,     0.57858,     0.57958,     0.58058,     0.58158,     0.58258,     0.58358,     0.58458,     0.58559,     0.58659,     0.58759,     0.58859,     0.58959,     0.59059,     0.59159,     0.59259,     0.59359,     0.59459,      0.5956,      0.5966,      0.5976,      0.5986,      0.5996,\n",
       "            0.6006,      0.6016,      0.6026,      0.6036,      0.6046,     0.60561,     0.60661,     0.60761,     0.60861,     0.60961,     0.61061,     0.61161,     0.61261,     0.61361,     0.61461,     0.61562,     0.61662,     0.61762,     0.61862,     0.61962,     0.62062,     0.62162,     0.62262,     0.62362,\n",
       "           0.62462,     0.62563,     0.62663,     0.62763,     0.62863,     0.62963,     0.63063,     0.63163,     0.63263,     0.63363,     0.63463,     0.63564,     0.63664,     0.63764,     0.63864,     0.63964,     0.64064,     0.64164,     0.64264,     0.64364,     0.64464,     0.64565,     0.64665,     0.64765,\n",
       "           0.64865,     0.64965,     0.65065,     0.65165,     0.65265,     0.65365,     0.65465,     0.65566,     0.65666,     0.65766,     0.65866,     0.65966,     0.66066,     0.66166,     0.66266,     0.66366,     0.66466,     0.66567,     0.66667,     0.66767,     0.66867,     0.66967,     0.67067,     0.67167,\n",
       "           0.67267,     0.67367,     0.67467,     0.67568,     0.67668,     0.67768,     0.67868,     0.67968,     0.68068,     0.68168,     0.68268,     0.68368,     0.68468,     0.68569,     0.68669,     0.68769,     0.68869,     0.68969,     0.69069,     0.69169,     0.69269,     0.69369,     0.69469,      0.6957,\n",
       "            0.6967,      0.6977,      0.6987,      0.6997,      0.7007,      0.7017,      0.7027,      0.7037,      0.7047,     0.70571,     0.70671,     0.70771,     0.70871,     0.70971,     0.71071,     0.71171,     0.71271,     0.71371,     0.71471,     0.71572,     0.71672,     0.71772,     0.71872,     0.71972,\n",
       "           0.72072,     0.72172,     0.72272,     0.72372,     0.72472,     0.72573,     0.72673,     0.72773,     0.72873,     0.72973,     0.73073,     0.73173,     0.73273,     0.73373,     0.73473,     0.73574,     0.73674,     0.73774,     0.73874,     0.73974,     0.74074,     0.74174,     0.74274,     0.74374,\n",
       "           0.74474,     0.74575,     0.74675,     0.74775,     0.74875,     0.74975,     0.75075,     0.75175,     0.75275,     0.75375,     0.75475,     0.75576,     0.75676,     0.75776,     0.75876,     0.75976,     0.76076,     0.76176,     0.76276,     0.76376,     0.76476,     0.76577,     0.76677,     0.76777,\n",
       "           0.76877,     0.76977,     0.77077,     0.77177,     0.77277,     0.77377,     0.77477,     0.77578,     0.77678,     0.77778,     0.77878,     0.77978,     0.78078,     0.78178,     0.78278,     0.78378,     0.78478,     0.78579,     0.78679,     0.78779,     0.78879,     0.78979,     0.79079,     0.79179,\n",
       "           0.79279,     0.79379,     0.79479,      0.7958,      0.7968,      0.7978,      0.7988,      0.7998,      0.8008,      0.8018,      0.8028,      0.8038,      0.8048,     0.80581,     0.80681,     0.80781,     0.80881,     0.80981,     0.81081,     0.81181,     0.81281,     0.81381,     0.81481,     0.81582,\n",
       "           0.81682,     0.81782,     0.81882,     0.81982,     0.82082,     0.82182,     0.82282,     0.82382,     0.82482,     0.82583,     0.82683,     0.82783,     0.82883,     0.82983,     0.83083,     0.83183,     0.83283,     0.83383,     0.83483,     0.83584,     0.83684,     0.83784,     0.83884,     0.83984,\n",
       "           0.84084,     0.84184,     0.84284,     0.84384,     0.84484,     0.84585,     0.84685,     0.84785,     0.84885,     0.84985,     0.85085,     0.85185,     0.85285,     0.85385,     0.85485,     0.85586,     0.85686,     0.85786,     0.85886,     0.85986,     0.86086,     0.86186,     0.86286,     0.86386,\n",
       "           0.86486,     0.86587,     0.86687,     0.86787,     0.86887,     0.86987,     0.87087,     0.87187,     0.87287,     0.87387,     0.87487,     0.87588,     0.87688,     0.87788,     0.87888,     0.87988,     0.88088,     0.88188,     0.88288,     0.88388,     0.88488,     0.88589,     0.88689,     0.88789,\n",
       "           0.88889,     0.88989,     0.89089,     0.89189,     0.89289,     0.89389,     0.89489,      0.8959,      0.8969,      0.8979,      0.8989,      0.8999,      0.9009,      0.9019,      0.9029,      0.9039,      0.9049,     0.90591,     0.90691,     0.90791,     0.90891,     0.90991,     0.91091,     0.91191,\n",
       "           0.91291,     0.91391,     0.91491,     0.91592,     0.91692,     0.91792,     0.91892,     0.91992,     0.92092,     0.92192,     0.92292,     0.92392,     0.92492,     0.92593,     0.92693,     0.92793,     0.92893,     0.92993,     0.93093,     0.93193,     0.93293,     0.93393,     0.93493,     0.93594,\n",
       "           0.93694,     0.93794,     0.93894,     0.93994,     0.94094,     0.94194,     0.94294,     0.94394,     0.94494,     0.94595,     0.94695,     0.94795,     0.94895,     0.94995,     0.95095,     0.95195,     0.95295,     0.95395,     0.95495,     0.95596,     0.95696,     0.95796,     0.95896,     0.95996,\n",
       "           0.96096,     0.96196,     0.96296,     0.96396,     0.96496,     0.96597,     0.96697,     0.96797,     0.96897,     0.96997,     0.97097,     0.97197,     0.97297,     0.97397,     0.97497,     0.97598,     0.97698,     0.97798,     0.97898,     0.97998,     0.98098,     0.98198,     0.98298,     0.98398,\n",
       "           0.98498,     0.98599,     0.98699,     0.98799,     0.98899,     0.98999,     0.99099,     0.99199,     0.99299,     0.99399,     0.99499,       0.996,       0.997,       0.998,       0.999,           1]), array([[   0.040734,    0.040787,    0.062328, ...,           0,           0,           0],\n",
       "       [   0.023494,    0.023516,    0.037509, ...,           0,           0,           0],\n",
       "       [   0.027023,    0.027034,    0.046543, ...,           0,           0,           0],\n",
       "       ...,\n",
       "       [    0.03307,    0.033092,    0.047548, ...,           0,           0,           0],\n",
       "       [    0.02435,    0.024363,     0.04287, ...,           0,           0,           0],\n",
       "       [   0.033458,    0.033472,    0.051636, ...,           0,           0,           0]], shape=(18, 1000)), 'Confidence', 'F1'], [array([          0,    0.001001,    0.002002,    0.003003,    0.004004,    0.005005,    0.006006,    0.007007,    0.008008,    0.009009,     0.01001,    0.011011,    0.012012,    0.013013,    0.014014,    0.015015,    0.016016,    0.017017,    0.018018,    0.019019,     0.02002,    0.021021,    0.022022,    0.023023,\n",
       "          0.024024,    0.025025,    0.026026,    0.027027,    0.028028,    0.029029,     0.03003,    0.031031,    0.032032,    0.033033,    0.034034,    0.035035,    0.036036,    0.037037,    0.038038,    0.039039,     0.04004,    0.041041,    0.042042,    0.043043,    0.044044,    0.045045,    0.046046,    0.047047,\n",
       "          0.048048,    0.049049,     0.05005,    0.051051,    0.052052,    0.053053,    0.054054,    0.055055,    0.056056,    0.057057,    0.058058,    0.059059,     0.06006,    0.061061,    0.062062,    0.063063,    0.064064,    0.065065,    0.066066,    0.067067,    0.068068,    0.069069,     0.07007,    0.071071,\n",
       "          0.072072,    0.073073,    0.074074,    0.075075,    0.076076,    0.077077,    0.078078,    0.079079,     0.08008,    0.081081,    0.082082,    0.083083,    0.084084,    0.085085,    0.086086,    0.087087,    0.088088,    0.089089,     0.09009,    0.091091,    0.092092,    0.093093,    0.094094,    0.095095,\n",
       "          0.096096,    0.097097,    0.098098,    0.099099,      0.1001,      0.1011,      0.1021,      0.1031,      0.1041,     0.10511,     0.10611,     0.10711,     0.10811,     0.10911,     0.11011,     0.11111,     0.11211,     0.11311,     0.11411,     0.11512,     0.11612,     0.11712,     0.11812,     0.11912,\n",
       "           0.12012,     0.12112,     0.12212,     0.12312,     0.12412,     0.12513,     0.12613,     0.12713,     0.12813,     0.12913,     0.13013,     0.13113,     0.13213,     0.13313,     0.13413,     0.13514,     0.13614,     0.13714,     0.13814,     0.13914,     0.14014,     0.14114,     0.14214,     0.14314,\n",
       "           0.14414,     0.14515,     0.14615,     0.14715,     0.14815,     0.14915,     0.15015,     0.15115,     0.15215,     0.15315,     0.15415,     0.15516,     0.15616,     0.15716,     0.15816,     0.15916,     0.16016,     0.16116,     0.16216,     0.16316,     0.16416,     0.16517,     0.16617,     0.16717,\n",
       "           0.16817,     0.16917,     0.17017,     0.17117,     0.17217,     0.17317,     0.17417,     0.17518,     0.17618,     0.17718,     0.17818,     0.17918,     0.18018,     0.18118,     0.18218,     0.18318,     0.18418,     0.18519,     0.18619,     0.18719,     0.18819,     0.18919,     0.19019,     0.19119,\n",
       "           0.19219,     0.19319,     0.19419,      0.1952,      0.1962,      0.1972,      0.1982,      0.1992,      0.2002,      0.2012,      0.2022,      0.2032,      0.2042,     0.20521,     0.20621,     0.20721,     0.20821,     0.20921,     0.21021,     0.21121,     0.21221,     0.21321,     0.21421,     0.21522,\n",
       "           0.21622,     0.21722,     0.21822,     0.21922,     0.22022,     0.22122,     0.22222,     0.22322,     0.22422,     0.22523,     0.22623,     0.22723,     0.22823,     0.22923,     0.23023,     0.23123,     0.23223,     0.23323,     0.23423,     0.23524,     0.23624,     0.23724,     0.23824,     0.23924,\n",
       "           0.24024,     0.24124,     0.24224,     0.24324,     0.24424,     0.24525,     0.24625,     0.24725,     0.24825,     0.24925,     0.25025,     0.25125,     0.25225,     0.25325,     0.25425,     0.25526,     0.25626,     0.25726,     0.25826,     0.25926,     0.26026,     0.26126,     0.26226,     0.26326,\n",
       "           0.26426,     0.26527,     0.26627,     0.26727,     0.26827,     0.26927,     0.27027,     0.27127,     0.27227,     0.27327,     0.27427,     0.27528,     0.27628,     0.27728,     0.27828,     0.27928,     0.28028,     0.28128,     0.28228,     0.28328,     0.28428,     0.28529,     0.28629,     0.28729,\n",
       "           0.28829,     0.28929,     0.29029,     0.29129,     0.29229,     0.29329,     0.29429,      0.2953,      0.2963,      0.2973,      0.2983,      0.2993,      0.3003,      0.3013,      0.3023,      0.3033,      0.3043,     0.30531,     0.30631,     0.30731,     0.30831,     0.30931,     0.31031,     0.31131,\n",
       "           0.31231,     0.31331,     0.31431,     0.31532,     0.31632,     0.31732,     0.31832,     0.31932,     0.32032,     0.32132,     0.32232,     0.32332,     0.32432,     0.32533,     0.32633,     0.32733,     0.32833,     0.32933,     0.33033,     0.33133,     0.33233,     0.33333,     0.33433,     0.33534,\n",
       "           0.33634,     0.33734,     0.33834,     0.33934,     0.34034,     0.34134,     0.34234,     0.34334,     0.34434,     0.34535,     0.34635,     0.34735,     0.34835,     0.34935,     0.35035,     0.35135,     0.35235,     0.35335,     0.35435,     0.35536,     0.35636,     0.35736,     0.35836,     0.35936,\n",
       "           0.36036,     0.36136,     0.36236,     0.36336,     0.36436,     0.36537,     0.36637,     0.36737,     0.36837,     0.36937,     0.37037,     0.37137,     0.37237,     0.37337,     0.37437,     0.37538,     0.37638,     0.37738,     0.37838,     0.37938,     0.38038,     0.38138,     0.38238,     0.38338,\n",
       "           0.38438,     0.38539,     0.38639,     0.38739,     0.38839,     0.38939,     0.39039,     0.39139,     0.39239,     0.39339,     0.39439,      0.3954,      0.3964,      0.3974,      0.3984,      0.3994,      0.4004,      0.4014,      0.4024,      0.4034,      0.4044,     0.40541,     0.40641,     0.40741,\n",
       "           0.40841,     0.40941,     0.41041,     0.41141,     0.41241,     0.41341,     0.41441,     0.41542,     0.41642,     0.41742,     0.41842,     0.41942,     0.42042,     0.42142,     0.42242,     0.42342,     0.42442,     0.42543,     0.42643,     0.42743,     0.42843,     0.42943,     0.43043,     0.43143,\n",
       "           0.43243,     0.43343,     0.43443,     0.43544,     0.43644,     0.43744,     0.43844,     0.43944,     0.44044,     0.44144,     0.44244,     0.44344,     0.44444,     0.44545,     0.44645,     0.44745,     0.44845,     0.44945,     0.45045,     0.45145,     0.45245,     0.45345,     0.45445,     0.45546,\n",
       "           0.45646,     0.45746,     0.45846,     0.45946,     0.46046,     0.46146,     0.46246,     0.46346,     0.46446,     0.46547,     0.46647,     0.46747,     0.46847,     0.46947,     0.47047,     0.47147,     0.47247,     0.47347,     0.47447,     0.47548,     0.47648,     0.47748,     0.47848,     0.47948,\n",
       "           0.48048,     0.48148,     0.48248,     0.48348,     0.48448,     0.48549,     0.48649,     0.48749,     0.48849,     0.48949,     0.49049,     0.49149,     0.49249,     0.49349,     0.49449,      0.4955,      0.4965,      0.4975,      0.4985,      0.4995,      0.5005,      0.5015,      0.5025,      0.5035,\n",
       "            0.5045,     0.50551,     0.50651,     0.50751,     0.50851,     0.50951,     0.51051,     0.51151,     0.51251,     0.51351,     0.51451,     0.51552,     0.51652,     0.51752,     0.51852,     0.51952,     0.52052,     0.52152,     0.52252,     0.52352,     0.52452,     0.52553,     0.52653,     0.52753,\n",
       "           0.52853,     0.52953,     0.53053,     0.53153,     0.53253,     0.53353,     0.53453,     0.53554,     0.53654,     0.53754,     0.53854,     0.53954,     0.54054,     0.54154,     0.54254,     0.54354,     0.54454,     0.54555,     0.54655,     0.54755,     0.54855,     0.54955,     0.55055,     0.55155,\n",
       "           0.55255,     0.55355,     0.55455,     0.55556,     0.55656,     0.55756,     0.55856,     0.55956,     0.56056,     0.56156,     0.56256,     0.56356,     0.56456,     0.56557,     0.56657,     0.56757,     0.56857,     0.56957,     0.57057,     0.57157,     0.57257,     0.57357,     0.57457,     0.57558,\n",
       "           0.57658,     0.57758,     0.57858,     0.57958,     0.58058,     0.58158,     0.58258,     0.58358,     0.58458,     0.58559,     0.58659,     0.58759,     0.58859,     0.58959,     0.59059,     0.59159,     0.59259,     0.59359,     0.59459,      0.5956,      0.5966,      0.5976,      0.5986,      0.5996,\n",
       "            0.6006,      0.6016,      0.6026,      0.6036,      0.6046,     0.60561,     0.60661,     0.60761,     0.60861,     0.60961,     0.61061,     0.61161,     0.61261,     0.61361,     0.61461,     0.61562,     0.61662,     0.61762,     0.61862,     0.61962,     0.62062,     0.62162,     0.62262,     0.62362,\n",
       "           0.62462,     0.62563,     0.62663,     0.62763,     0.62863,     0.62963,     0.63063,     0.63163,     0.63263,     0.63363,     0.63463,     0.63564,     0.63664,     0.63764,     0.63864,     0.63964,     0.64064,     0.64164,     0.64264,     0.64364,     0.64464,     0.64565,     0.64665,     0.64765,\n",
       "           0.64865,     0.64965,     0.65065,     0.65165,     0.65265,     0.65365,     0.65465,     0.65566,     0.65666,     0.65766,     0.65866,     0.65966,     0.66066,     0.66166,     0.66266,     0.66366,     0.66466,     0.66567,     0.66667,     0.66767,     0.66867,     0.66967,     0.67067,     0.67167,\n",
       "           0.67267,     0.67367,     0.67467,     0.67568,     0.67668,     0.67768,     0.67868,     0.67968,     0.68068,     0.68168,     0.68268,     0.68368,     0.68468,     0.68569,     0.68669,     0.68769,     0.68869,     0.68969,     0.69069,     0.69169,     0.69269,     0.69369,     0.69469,      0.6957,\n",
       "            0.6967,      0.6977,      0.6987,      0.6997,      0.7007,      0.7017,      0.7027,      0.7037,      0.7047,     0.70571,     0.70671,     0.70771,     0.70871,     0.70971,     0.71071,     0.71171,     0.71271,     0.71371,     0.71471,     0.71572,     0.71672,     0.71772,     0.71872,     0.71972,\n",
       "           0.72072,     0.72172,     0.72272,     0.72372,     0.72472,     0.72573,     0.72673,     0.72773,     0.72873,     0.72973,     0.73073,     0.73173,     0.73273,     0.73373,     0.73473,     0.73574,     0.73674,     0.73774,     0.73874,     0.73974,     0.74074,     0.74174,     0.74274,     0.74374,\n",
       "           0.74474,     0.74575,     0.74675,     0.74775,     0.74875,     0.74975,     0.75075,     0.75175,     0.75275,     0.75375,     0.75475,     0.75576,     0.75676,     0.75776,     0.75876,     0.75976,     0.76076,     0.76176,     0.76276,     0.76376,     0.76476,     0.76577,     0.76677,     0.76777,\n",
       "           0.76877,     0.76977,     0.77077,     0.77177,     0.77277,     0.77377,     0.77477,     0.77578,     0.77678,     0.77778,     0.77878,     0.77978,     0.78078,     0.78178,     0.78278,     0.78378,     0.78478,     0.78579,     0.78679,     0.78779,     0.78879,     0.78979,     0.79079,     0.79179,\n",
       "           0.79279,     0.79379,     0.79479,      0.7958,      0.7968,      0.7978,      0.7988,      0.7998,      0.8008,      0.8018,      0.8028,      0.8038,      0.8048,     0.80581,     0.80681,     0.80781,     0.80881,     0.80981,     0.81081,     0.81181,     0.81281,     0.81381,     0.81481,     0.81582,\n",
       "           0.81682,     0.81782,     0.81882,     0.81982,     0.82082,     0.82182,     0.82282,     0.82382,     0.82482,     0.82583,     0.82683,     0.82783,     0.82883,     0.82983,     0.83083,     0.83183,     0.83283,     0.83383,     0.83483,     0.83584,     0.83684,     0.83784,     0.83884,     0.83984,\n",
       "           0.84084,     0.84184,     0.84284,     0.84384,     0.84484,     0.84585,     0.84685,     0.84785,     0.84885,     0.84985,     0.85085,     0.85185,     0.85285,     0.85385,     0.85485,     0.85586,     0.85686,     0.85786,     0.85886,     0.85986,     0.86086,     0.86186,     0.86286,     0.86386,\n",
       "           0.86486,     0.86587,     0.86687,     0.86787,     0.86887,     0.86987,     0.87087,     0.87187,     0.87287,     0.87387,     0.87487,     0.87588,     0.87688,     0.87788,     0.87888,     0.87988,     0.88088,     0.88188,     0.88288,     0.88388,     0.88488,     0.88589,     0.88689,     0.88789,\n",
       "           0.88889,     0.88989,     0.89089,     0.89189,     0.89289,     0.89389,     0.89489,      0.8959,      0.8969,      0.8979,      0.8989,      0.8999,      0.9009,      0.9019,      0.9029,      0.9039,      0.9049,     0.90591,     0.90691,     0.90791,     0.90891,     0.90991,     0.91091,     0.91191,\n",
       "           0.91291,     0.91391,     0.91491,     0.91592,     0.91692,     0.91792,     0.91892,     0.91992,     0.92092,     0.92192,     0.92292,     0.92392,     0.92492,     0.92593,     0.92693,     0.92793,     0.92893,     0.92993,     0.93093,     0.93193,     0.93293,     0.93393,     0.93493,     0.93594,\n",
       "           0.93694,     0.93794,     0.93894,     0.93994,     0.94094,     0.94194,     0.94294,     0.94394,     0.94494,     0.94595,     0.94695,     0.94795,     0.94895,     0.94995,     0.95095,     0.95195,     0.95295,     0.95395,     0.95495,     0.95596,     0.95696,     0.95796,     0.95896,     0.95996,\n",
       "           0.96096,     0.96196,     0.96296,     0.96396,     0.96496,     0.96597,     0.96697,     0.96797,     0.96897,     0.96997,     0.97097,     0.97197,     0.97297,     0.97397,     0.97497,     0.97598,     0.97698,     0.97798,     0.97898,     0.97998,     0.98098,     0.98198,     0.98298,     0.98398,\n",
       "           0.98498,     0.98599,     0.98699,     0.98799,     0.98899,     0.98999,     0.99099,     0.99199,     0.99299,     0.99399,     0.99499,       0.996,       0.997,       0.998,       0.999,           1]), array([[   0.020797,    0.020825,    0.032199, ...,           1,           1,           1],\n",
       "       [   0.011897,    0.011909,     0.01914, ...,           1,           1,           1],\n",
       "       [   0.013708,    0.013714,     0.02386, ...,           1,           1,           1],\n",
       "       ...,\n",
       "       [   0.016817,    0.016828,    0.024361, ...,           1,           1,           1],\n",
       "       [   0.012401,    0.012408,    0.022144, ...,           1,           1,           1],\n",
       "       [   0.017015,    0.017023,    0.026506, ...,           1,           1,           1]], shape=(18, 1000)), 'Confidence', 'Precision'], [array([          0,    0.001001,    0.002002,    0.003003,    0.004004,    0.005005,    0.006006,    0.007007,    0.008008,    0.009009,     0.01001,    0.011011,    0.012012,    0.013013,    0.014014,    0.015015,    0.016016,    0.017017,    0.018018,    0.019019,     0.02002,    0.021021,    0.022022,    0.023023,\n",
       "          0.024024,    0.025025,    0.026026,    0.027027,    0.028028,    0.029029,     0.03003,    0.031031,    0.032032,    0.033033,    0.034034,    0.035035,    0.036036,    0.037037,    0.038038,    0.039039,     0.04004,    0.041041,    0.042042,    0.043043,    0.044044,    0.045045,    0.046046,    0.047047,\n",
       "          0.048048,    0.049049,     0.05005,    0.051051,    0.052052,    0.053053,    0.054054,    0.055055,    0.056056,    0.057057,    0.058058,    0.059059,     0.06006,    0.061061,    0.062062,    0.063063,    0.064064,    0.065065,    0.066066,    0.067067,    0.068068,    0.069069,     0.07007,    0.071071,\n",
       "          0.072072,    0.073073,    0.074074,    0.075075,    0.076076,    0.077077,    0.078078,    0.079079,     0.08008,    0.081081,    0.082082,    0.083083,    0.084084,    0.085085,    0.086086,    0.087087,    0.088088,    0.089089,     0.09009,    0.091091,    0.092092,    0.093093,    0.094094,    0.095095,\n",
       "          0.096096,    0.097097,    0.098098,    0.099099,      0.1001,      0.1011,      0.1021,      0.1031,      0.1041,     0.10511,     0.10611,     0.10711,     0.10811,     0.10911,     0.11011,     0.11111,     0.11211,     0.11311,     0.11411,     0.11512,     0.11612,     0.11712,     0.11812,     0.11912,\n",
       "           0.12012,     0.12112,     0.12212,     0.12312,     0.12412,     0.12513,     0.12613,     0.12713,     0.12813,     0.12913,     0.13013,     0.13113,     0.13213,     0.13313,     0.13413,     0.13514,     0.13614,     0.13714,     0.13814,     0.13914,     0.14014,     0.14114,     0.14214,     0.14314,\n",
       "           0.14414,     0.14515,     0.14615,     0.14715,     0.14815,     0.14915,     0.15015,     0.15115,     0.15215,     0.15315,     0.15415,     0.15516,     0.15616,     0.15716,     0.15816,     0.15916,     0.16016,     0.16116,     0.16216,     0.16316,     0.16416,     0.16517,     0.16617,     0.16717,\n",
       "           0.16817,     0.16917,     0.17017,     0.17117,     0.17217,     0.17317,     0.17417,     0.17518,     0.17618,     0.17718,     0.17818,     0.17918,     0.18018,     0.18118,     0.18218,     0.18318,     0.18418,     0.18519,     0.18619,     0.18719,     0.18819,     0.18919,     0.19019,     0.19119,\n",
       "           0.19219,     0.19319,     0.19419,      0.1952,      0.1962,      0.1972,      0.1982,      0.1992,      0.2002,      0.2012,      0.2022,      0.2032,      0.2042,     0.20521,     0.20621,     0.20721,     0.20821,     0.20921,     0.21021,     0.21121,     0.21221,     0.21321,     0.21421,     0.21522,\n",
       "           0.21622,     0.21722,     0.21822,     0.21922,     0.22022,     0.22122,     0.22222,     0.22322,     0.22422,     0.22523,     0.22623,     0.22723,     0.22823,     0.22923,     0.23023,     0.23123,     0.23223,     0.23323,     0.23423,     0.23524,     0.23624,     0.23724,     0.23824,     0.23924,\n",
       "           0.24024,     0.24124,     0.24224,     0.24324,     0.24424,     0.24525,     0.24625,     0.24725,     0.24825,     0.24925,     0.25025,     0.25125,     0.25225,     0.25325,     0.25425,     0.25526,     0.25626,     0.25726,     0.25826,     0.25926,     0.26026,     0.26126,     0.26226,     0.26326,\n",
       "           0.26426,     0.26527,     0.26627,     0.26727,     0.26827,     0.26927,     0.27027,     0.27127,     0.27227,     0.27327,     0.27427,     0.27528,     0.27628,     0.27728,     0.27828,     0.27928,     0.28028,     0.28128,     0.28228,     0.28328,     0.28428,     0.28529,     0.28629,     0.28729,\n",
       "           0.28829,     0.28929,     0.29029,     0.29129,     0.29229,     0.29329,     0.29429,      0.2953,      0.2963,      0.2973,      0.2983,      0.2993,      0.3003,      0.3013,      0.3023,      0.3033,      0.3043,     0.30531,     0.30631,     0.30731,     0.30831,     0.30931,     0.31031,     0.31131,\n",
       "           0.31231,     0.31331,     0.31431,     0.31532,     0.31632,     0.31732,     0.31832,     0.31932,     0.32032,     0.32132,     0.32232,     0.32332,     0.32432,     0.32533,     0.32633,     0.32733,     0.32833,     0.32933,     0.33033,     0.33133,     0.33233,     0.33333,     0.33433,     0.33534,\n",
       "           0.33634,     0.33734,     0.33834,     0.33934,     0.34034,     0.34134,     0.34234,     0.34334,     0.34434,     0.34535,     0.34635,     0.34735,     0.34835,     0.34935,     0.35035,     0.35135,     0.35235,     0.35335,     0.35435,     0.35536,     0.35636,     0.35736,     0.35836,     0.35936,\n",
       "           0.36036,     0.36136,     0.36236,     0.36336,     0.36436,     0.36537,     0.36637,     0.36737,     0.36837,     0.36937,     0.37037,     0.37137,     0.37237,     0.37337,     0.37437,     0.37538,     0.37638,     0.37738,     0.37838,     0.37938,     0.38038,     0.38138,     0.38238,     0.38338,\n",
       "           0.38438,     0.38539,     0.38639,     0.38739,     0.38839,     0.38939,     0.39039,     0.39139,     0.39239,     0.39339,     0.39439,      0.3954,      0.3964,      0.3974,      0.3984,      0.3994,      0.4004,      0.4014,      0.4024,      0.4034,      0.4044,     0.40541,     0.40641,     0.40741,\n",
       "           0.40841,     0.40941,     0.41041,     0.41141,     0.41241,     0.41341,     0.41441,     0.41542,     0.41642,     0.41742,     0.41842,     0.41942,     0.42042,     0.42142,     0.42242,     0.42342,     0.42442,     0.42543,     0.42643,     0.42743,     0.42843,     0.42943,     0.43043,     0.43143,\n",
       "           0.43243,     0.43343,     0.43443,     0.43544,     0.43644,     0.43744,     0.43844,     0.43944,     0.44044,     0.44144,     0.44244,     0.44344,     0.44444,     0.44545,     0.44645,     0.44745,     0.44845,     0.44945,     0.45045,     0.45145,     0.45245,     0.45345,     0.45445,     0.45546,\n",
       "           0.45646,     0.45746,     0.45846,     0.45946,     0.46046,     0.46146,     0.46246,     0.46346,     0.46446,     0.46547,     0.46647,     0.46747,     0.46847,     0.46947,     0.47047,     0.47147,     0.47247,     0.47347,     0.47447,     0.47548,     0.47648,     0.47748,     0.47848,     0.47948,\n",
       "           0.48048,     0.48148,     0.48248,     0.48348,     0.48448,     0.48549,     0.48649,     0.48749,     0.48849,     0.48949,     0.49049,     0.49149,     0.49249,     0.49349,     0.49449,      0.4955,      0.4965,      0.4975,      0.4985,      0.4995,      0.5005,      0.5015,      0.5025,      0.5035,\n",
       "            0.5045,     0.50551,     0.50651,     0.50751,     0.50851,     0.50951,     0.51051,     0.51151,     0.51251,     0.51351,     0.51451,     0.51552,     0.51652,     0.51752,     0.51852,     0.51952,     0.52052,     0.52152,     0.52252,     0.52352,     0.52452,     0.52553,     0.52653,     0.52753,\n",
       "           0.52853,     0.52953,     0.53053,     0.53153,     0.53253,     0.53353,     0.53453,     0.53554,     0.53654,     0.53754,     0.53854,     0.53954,     0.54054,     0.54154,     0.54254,     0.54354,     0.54454,     0.54555,     0.54655,     0.54755,     0.54855,     0.54955,     0.55055,     0.55155,\n",
       "           0.55255,     0.55355,     0.55455,     0.55556,     0.55656,     0.55756,     0.55856,     0.55956,     0.56056,     0.56156,     0.56256,     0.56356,     0.56456,     0.56557,     0.56657,     0.56757,     0.56857,     0.56957,     0.57057,     0.57157,     0.57257,     0.57357,     0.57457,     0.57558,\n",
       "           0.57658,     0.57758,     0.57858,     0.57958,     0.58058,     0.58158,     0.58258,     0.58358,     0.58458,     0.58559,     0.58659,     0.58759,     0.58859,     0.58959,     0.59059,     0.59159,     0.59259,     0.59359,     0.59459,      0.5956,      0.5966,      0.5976,      0.5986,      0.5996,\n",
       "            0.6006,      0.6016,      0.6026,      0.6036,      0.6046,     0.60561,     0.60661,     0.60761,     0.60861,     0.60961,     0.61061,     0.61161,     0.61261,     0.61361,     0.61461,     0.61562,     0.61662,     0.61762,     0.61862,     0.61962,     0.62062,     0.62162,     0.62262,     0.62362,\n",
       "           0.62462,     0.62563,     0.62663,     0.62763,     0.62863,     0.62963,     0.63063,     0.63163,     0.63263,     0.63363,     0.63463,     0.63564,     0.63664,     0.63764,     0.63864,     0.63964,     0.64064,     0.64164,     0.64264,     0.64364,     0.64464,     0.64565,     0.64665,     0.64765,\n",
       "           0.64865,     0.64965,     0.65065,     0.65165,     0.65265,     0.65365,     0.65465,     0.65566,     0.65666,     0.65766,     0.65866,     0.65966,     0.66066,     0.66166,     0.66266,     0.66366,     0.66466,     0.66567,     0.66667,     0.66767,     0.66867,     0.66967,     0.67067,     0.67167,\n",
       "           0.67267,     0.67367,     0.67467,     0.67568,     0.67668,     0.67768,     0.67868,     0.67968,     0.68068,     0.68168,     0.68268,     0.68368,     0.68468,     0.68569,     0.68669,     0.68769,     0.68869,     0.68969,     0.69069,     0.69169,     0.69269,     0.69369,     0.69469,      0.6957,\n",
       "            0.6967,      0.6977,      0.6987,      0.6997,      0.7007,      0.7017,      0.7027,      0.7037,      0.7047,     0.70571,     0.70671,     0.70771,     0.70871,     0.70971,     0.71071,     0.71171,     0.71271,     0.71371,     0.71471,     0.71572,     0.71672,     0.71772,     0.71872,     0.71972,\n",
       "           0.72072,     0.72172,     0.72272,     0.72372,     0.72472,     0.72573,     0.72673,     0.72773,     0.72873,     0.72973,     0.73073,     0.73173,     0.73273,     0.73373,     0.73473,     0.73574,     0.73674,     0.73774,     0.73874,     0.73974,     0.74074,     0.74174,     0.74274,     0.74374,\n",
       "           0.74474,     0.74575,     0.74675,     0.74775,     0.74875,     0.74975,     0.75075,     0.75175,     0.75275,     0.75375,     0.75475,     0.75576,     0.75676,     0.75776,     0.75876,     0.75976,     0.76076,     0.76176,     0.76276,     0.76376,     0.76476,     0.76577,     0.76677,     0.76777,\n",
       "           0.76877,     0.76977,     0.77077,     0.77177,     0.77277,     0.77377,     0.77477,     0.77578,     0.77678,     0.77778,     0.77878,     0.77978,     0.78078,     0.78178,     0.78278,     0.78378,     0.78478,     0.78579,     0.78679,     0.78779,     0.78879,     0.78979,     0.79079,     0.79179,\n",
       "           0.79279,     0.79379,     0.79479,      0.7958,      0.7968,      0.7978,      0.7988,      0.7998,      0.8008,      0.8018,      0.8028,      0.8038,      0.8048,     0.80581,     0.80681,     0.80781,     0.80881,     0.80981,     0.81081,     0.81181,     0.81281,     0.81381,     0.81481,     0.81582,\n",
       "           0.81682,     0.81782,     0.81882,     0.81982,     0.82082,     0.82182,     0.82282,     0.82382,     0.82482,     0.82583,     0.82683,     0.82783,     0.82883,     0.82983,     0.83083,     0.83183,     0.83283,     0.83383,     0.83483,     0.83584,     0.83684,     0.83784,     0.83884,     0.83984,\n",
       "           0.84084,     0.84184,     0.84284,     0.84384,     0.84484,     0.84585,     0.84685,     0.84785,     0.84885,     0.84985,     0.85085,     0.85185,     0.85285,     0.85385,     0.85485,     0.85586,     0.85686,     0.85786,     0.85886,     0.85986,     0.86086,     0.86186,     0.86286,     0.86386,\n",
       "           0.86486,     0.86587,     0.86687,     0.86787,     0.86887,     0.86987,     0.87087,     0.87187,     0.87287,     0.87387,     0.87487,     0.87588,     0.87688,     0.87788,     0.87888,     0.87988,     0.88088,     0.88188,     0.88288,     0.88388,     0.88488,     0.88589,     0.88689,     0.88789,\n",
       "           0.88889,     0.88989,     0.89089,     0.89189,     0.89289,     0.89389,     0.89489,      0.8959,      0.8969,      0.8979,      0.8989,      0.8999,      0.9009,      0.9019,      0.9029,      0.9039,      0.9049,     0.90591,     0.90691,     0.90791,     0.90891,     0.90991,     0.91091,     0.91191,\n",
       "           0.91291,     0.91391,     0.91491,     0.91592,     0.91692,     0.91792,     0.91892,     0.91992,     0.92092,     0.92192,     0.92292,     0.92392,     0.92492,     0.92593,     0.92693,     0.92793,     0.92893,     0.92993,     0.93093,     0.93193,     0.93293,     0.93393,     0.93493,     0.93594,\n",
       "           0.93694,     0.93794,     0.93894,     0.93994,     0.94094,     0.94194,     0.94294,     0.94394,     0.94494,     0.94595,     0.94695,     0.94795,     0.94895,     0.94995,     0.95095,     0.95195,     0.95295,     0.95395,     0.95495,     0.95596,     0.95696,     0.95796,     0.95896,     0.95996,\n",
       "           0.96096,     0.96196,     0.96296,     0.96396,     0.96496,     0.96597,     0.96697,     0.96797,     0.96897,     0.96997,     0.97097,     0.97197,     0.97297,     0.97397,     0.97497,     0.97598,     0.97698,     0.97798,     0.97898,     0.97998,     0.98098,     0.98198,     0.98298,     0.98398,\n",
       "           0.98498,     0.98599,     0.98699,     0.98799,     0.98899,     0.98999,     0.99099,     0.99199,     0.99299,     0.99399,     0.99499,       0.996,       0.997,       0.998,       0.999,           1]), array([[    0.98462,     0.98462,     0.96923, ...,           0,           0,           0],\n",
       "       [    0.93137,     0.93137,     0.93137, ...,           0,           0,           0],\n",
       "       [    0.94286,     0.94286,     0.94286, ...,           0,           0,           0],\n",
       "       ...,\n",
       "       [     0.9871,      0.9871,      0.9871, ...,           0,           0,           0],\n",
       "       [    0.66917,     0.66917,     0.66917, ...,           0,           0,           0],\n",
       "       [    0.99401,     0.99401,     0.99401, ...,           0,           0,           0]], shape=(18, 1000)), 'Confidence', 'Recall']]\n",
       "fitness: np.float64(0.24014541742618895)\n",
       "keys: ['metrics/precision(B)', 'metrics/recall(B)', 'metrics/mAP50(B)', 'metrics/mAP50-95(B)']\n",
       "maps: array([    0.26065,     0.17215,     0.33048,     0.57507,      0.1566,     0.29819,     0.12862,      0.3469,     0.24766,      0.2561,     0.11618,    0.062145,      0.2011,     0.30177,     0.22165,     0.19115,      0.1417,      0.2258])\n",
       "names: {0: '0', 1: '1', 2: '10', 3: '11', 4: '12', 5: '13', 6: '14', 7: '15', 8: '16', 9: '17', 10: '2', 11: '3', 12: '4', 13: '5', 14: '6', 15: '7', 16: '8', 17: '9'}\n",
       "plot: True\n",
       "results_dict: {'metrics/precision(B)': np.float64(0.24081157201353565), 'metrics/recall(B)': np.float64(0.5277232456599636), 'metrics/mAP50(B)': np.float64(0.28449326448655554), 'metrics/mAP50-95(B)': np.float64(0.23521787886392598), 'fitness': np.float64(0.24014541742618895)}\n",
       "save_dir: PosixPath('/Users/anassyed/Documents/lynqo/runs/detect/train9')\n",
       "speed: {'preprocess': 0.38030940757545817, 'inference': 62.137359575260206, 'loss': 4.3056061626012164e-05, 'postprocess': 0.45018484696710304}\n",
       "task: 'detect'"
      ]
     },
     "execution_count": 25,
     "metadata": {},
     "output_type": "execute_result"
    }
   ],
   "source": [
    "\n",
    "# Train the model using the dataset\n",
    "model.train(\n",
    "    data=str(data_path),  # path to data yaml file using PATH_TO_DADASET\n",
    "    epochs=5,                # number of epochs\n",
    "    imgsz=416,                # image size\n",
    "    batch=16,                 # batch size\n",
    "    patience=50,              # early stopping patience\n",
    "    verbose=True             # print training progress\n",
    ")"
   ]
  },
  {
   "cell_type": "code",
   "execution_count": 30,
   "id": "f8849fb2",
   "metadata": {},
   "outputs": [],
   "source": [
    "# Load YOLO model\n",
    "MODEL_PATH = Path(\"../runs/detect/train9/weights/best.pt\")\n",
    "# loaded_model = YOLO(MODEL_PATH)\n",
    "loaded_model = YOLO(MODEL_PATH)"
   ]
  },
  {
   "cell_type": "code",
   "execution_count": 32,
   "id": "63d4cf1e",
   "metadata": {},
   "outputs": [
    {
     "name": "stdout",
     "output_type": "stream",
     "text": [
      "\n",
      "WARNING ⚠️ \n",
      "inference results will accumulate in RAM unless `stream=True` is passed, causing potential out-of-memory\n",
      "errors for large sources or long-running streams and videos. See https://docs.ultralytics.com/modes/predict/ for help.\n",
      "\n",
      "Example:\n",
      "    results = model(source=..., stream=True)  # generator of Results objects\n",
      "    for r in results:\n",
      "        boxes = r.boxes  # Boxes object for bbox outputs\n",
      "        masks = r.masks  # Masks object for segment masks outputs\n",
      "        probs = r.probs  # Class probabilities for classification outputs\n",
      "\n",
      "image 1/5320 /Users/anassyed/Documents/lynqo/notebooks/../datasets/Surgical-Tools-Detection-1/train_subset/images/250365762_633967454294269_8117536681550006933_n_jpg.rf.425dc6c6b0a4aa8541e3350e3ecd2c7b.jpg: 416x416 (no detections), 51.8ms\n",
      "image 2/5320 /Users/anassyed/Documents/lynqo/notebooks/../datasets/Surgical-Tools-Detection-1/train_subset/images/250365762_633967454294269_8117536681550006933_n_jpg.rf.6bd9dd31c66c1e5591a816b281d7c213_aug1.jpg: 416x416 (no detections), 36.8ms\n",
      "image 3/5320 /Users/anassyed/Documents/lynqo/notebooks/../datasets/Surgical-Tools-Detection-1/train_subset/images/250697585_217634587020345_6940595882286600928_n_jpg.rf.a4089e910fe7b0e4b39dee4d392a0a33_aug1.jpg: 416x416 (no detections), 32.5ms\n",
      "image 4/5320 /Users/anassyed/Documents/lynqo/notebooks/../datasets/Surgical-Tools-Detection-1/train_subset/images/251073262_472463077409587_264764377876022301_n_jpg.rf.d252eba5fec2bcfb9510f3c4de1fb6be.jpg: 416x416 (no detections), 35.7ms\n",
      "image 5/5320 /Users/anassyed/Documents/lynqo/notebooks/../datasets/Surgical-Tools-Detection-1/train_subset/images/251073262_472463077409587_264764377876022301_n_jpg.rf.d252eba5fec2bcfb9510f3c4de1fb6be_aug1.jpg: 416x416 (no detections), 28.1ms\n",
      "image 6/5320 /Users/anassyed/Documents/lynqo/notebooks/../datasets/Surgical-Tools-Detection-1/train_subset/images/251333220_617005302668849_7001394344599905952_n_jpg.rf.4b47dc413f946fc3f8c92a27407c553c.jpg: 416x416 1 13, 1 6, 1 7, 32.7ms\n",
      "image 7/5320 /Users/anassyed/Documents/lynqo/notebooks/../datasets/Surgical-Tools-Detection-1/train_subset/images/251662707_171949028474586_6217853478228967781_n_jpg.rf.31935ba18da8422c2bfcd6459ffe46a6.jpg: 416x416 (no detections), 36.0ms\n",
      "image 8/5320 /Users/anassyed/Documents/lynqo/notebooks/../datasets/Surgical-Tools-Detection-1/train_subset/images/251662707_171949028474586_6217853478228967781_n_jpg.rf.446193f23cb9dfc1d665171947d13ea3_aug0.jpg: 416x416 (no detections), 33.4ms\n",
      "image 9/5320 /Users/anassyed/Documents/lynqo/notebooks/../datasets/Surgical-Tools-Detection-1/train_subset/images/252187892_415816380257215_8969784532870802759_n_jpg.rf.4364052b7b3e6937c22ef311709a4c03_aug1.jpg: 416x416 (no detections), 32.3ms\n",
      "image 10/5320 /Users/anassyed/Documents/lynqo/notebooks/../datasets/Surgical-Tools-Detection-1/train_subset/images/252187892_415816380257215_8969784532870802759_n_jpg.rf.e3cb052a6f033582de0f166723119019.jpg: 416x416 1 16, 33.3ms\n",
      "image 11/5320 /Users/anassyed/Documents/lynqo/notebooks/../datasets/Surgical-Tools-Detection-1/train_subset/images/6_Babcock_Tissue_Forceps_101_jpg.rf.b8c25535215f2dd5268a00d1f83ace23.jpg: 416x416 (no detections), 37.5ms\n",
      "image 12/5320 /Users/anassyed/Documents/lynqo/notebooks/../datasets/Surgical-Tools-Detection-1/train_subset/images/6_Babcock_Tissue_Forceps_115_jpg.rf.58afd41b1c3830de31d97800b22d941a_aug0.jpg: 416x416 (no detections), 39.3ms\n",
      "image 13/5320 /Users/anassyed/Documents/lynqo/notebooks/../datasets/Surgical-Tools-Detection-1/train_subset/images/6_Babcock_Tissue_Forceps_117_jpg.rf.cf4374f98e74375e543508a444715055.jpg: 416x416 1 14, 1 6, 1 7, 1 8, 39.8ms\n",
      "image 14/5320 /Users/anassyed/Documents/lynqo/notebooks/../datasets/Surgical-Tools-Detection-1/train_subset/images/6_Babcock_Tissue_Forceps_125_jpg.rf.f74d85377fb0407401e2c117108ea7ba_aug1.jpg: 416x416 (no detections), 37.3ms\n",
      "image 15/5320 /Users/anassyed/Documents/lynqo/notebooks/../datasets/Surgical-Tools-Detection-1/train_subset/images/6_Babcock_Tissue_Forceps_128_jpg.rf.afbc9936d87a810372d56530fb368226_aug0.jpg: 416x416 (no detections), 28.7ms\n",
      "image 16/5320 /Users/anassyed/Documents/lynqo/notebooks/../datasets/Surgical-Tools-Detection-1/train_subset/images/6_Babcock_Tissue_Forceps_130_jpg.rf.270d2e886a36624a6ab690a21f03fa6a_aug1.jpg: 416x416 (no detections), 57.5ms\n",
      "image 17/5320 /Users/anassyed/Documents/lynqo/notebooks/../datasets/Surgical-Tools-Detection-1/train_subset/images/6_Babcock_Tissue_Forceps_130_jpg.rf.e291edf55ea280a30db7a6795015dba0_aug0.jpg: 416x416 (no detections), 31.9ms\n",
      "image 18/5320 /Users/anassyed/Documents/lynqo/notebooks/../datasets/Surgical-Tools-Detection-1/train_subset/images/6_Babcock_Tissue_Forceps_134_jpg.rf.451200e7041a735e8cfebd65e3fb303e.jpg: 416x416 (no detections), 25.2ms\n",
      "image 19/5320 /Users/anassyed/Documents/lynqo/notebooks/../datasets/Surgical-Tools-Detection-1/train_subset/images/6_Babcock_Tissue_Forceps_138_jpg.rf.0d47fcbe742a7bc16dc098b604584b26_aug0.jpg: 416x416 (no detections), 37.1ms\n",
      "image 20/5320 /Users/anassyed/Documents/lynqo/notebooks/../datasets/Surgical-Tools-Detection-1/train_subset/images/6_Babcock_Tissue_Forceps_138_jpg.rf.d244644c9655236f7bf480f65543f94a_aug1.jpg: 416x416 (no detections), 32.3ms\n",
      "image 21/5320 /Users/anassyed/Documents/lynqo/notebooks/../datasets/Surgical-Tools-Detection-1/train_subset/images/6_Babcock_Tissue_Forceps_146_jpg.rf.4932e289b5f9101fbce346d370a7b501_aug0.jpg: 416x416 (no detections), 30.6ms\n",
      "image 22/5320 /Users/anassyed/Documents/lynqo/notebooks/../datasets/Surgical-Tools-Detection-1/train_subset/images/6_Babcock_Tissue_Forceps_148_jpg.rf.ef9666df95ad62c62ec77f3d31b417e7_aug0.jpg: 416x416 (no detections), 30.3ms\n",
      "image 23/5320 /Users/anassyed/Documents/lynqo/notebooks/../datasets/Surgical-Tools-Detection-1/train_subset/images/6_Babcock_Tissue_Forceps_152_jpg.rf.c2ab986d309f30f79d1435af849c341b.jpg: 416x416 1 14, 27.4ms\n",
      "image 24/5320 /Users/anassyed/Documents/lynqo/notebooks/../datasets/Surgical-Tools-Detection-1/train_subset/images/6_Babcock_Tissue_Forceps_152_jpg.rf.c2ab986d309f30f79d1435af849c341b_aug0.jpg: 416x416 1 11, 33.2ms\n",
      "image 25/5320 /Users/anassyed/Documents/lynqo/notebooks/../datasets/Surgical-Tools-Detection-1/train_subset/images/6_Babcock_Tissue_Forceps_154_jpg.rf.14699cfaedbd204f6c363f8c07c226a6_aug0.jpg: 416x416 (no detections), 29.4ms\n",
      "image 26/5320 /Users/anassyed/Documents/lynqo/notebooks/../datasets/Surgical-Tools-Detection-1/train_subset/images/6_Babcock_Tissue_Forceps_155_jpg.rf.9f222cbda27659b126f451ff7d2bf72c.jpg: 416x416 1 14, 30.1ms\n",
      "image 27/5320 /Users/anassyed/Documents/lynqo/notebooks/../datasets/Surgical-Tools-Detection-1/train_subset/images/6_Babcock_Tissue_Forceps_157_jpg.rf.96fdb38a3db541c264b913706c7ee320.jpg: 416x416 1 14, 37.2ms\n",
      "image 28/5320 /Users/anassyed/Documents/lynqo/notebooks/../datasets/Surgical-Tools-Detection-1/train_subset/images/6_Babcock_Tissue_Forceps_160_jpg.rf.0e5121b81519ee5f5ede5fd91eba403c_aug1.jpg: 416x416 (no detections), 30.8ms\n",
      "image 29/5320 /Users/anassyed/Documents/lynqo/notebooks/../datasets/Surgical-Tools-Detection-1/train_subset/images/6_Babcock_Tissue_Forceps_160_jpg.rf.7eb5dabb454cd645899bb65fbcc3c5be_aug0.jpg: 416x416 1 8, 33.4ms\n",
      "image 30/5320 /Users/anassyed/Documents/lynqo/notebooks/../datasets/Surgical-Tools-Detection-1/train_subset/images/6_Babcock_Tissue_Forceps_163_jpg.rf.92c30c3007fcb9cc1bb5ea7cb6c21f2d_aug0.jpg: 416x416 (no detections), 53.8ms\n",
      "image 31/5320 /Users/anassyed/Documents/lynqo/notebooks/../datasets/Surgical-Tools-Detection-1/train_subset/images/6_Babcock_Tissue_Forceps_165_jpg.rf.8a413246cd986110e36e6fb20811e78e_aug1.jpg: 416x416 (no detections), 28.2ms\n",
      "image 32/5320 /Users/anassyed/Documents/lynqo/notebooks/../datasets/Surgical-Tools-Detection-1/train_subset/images/6_Babcock_Tissue_Forceps_166_jpg.rf.2547ae2b4826cd7d056a2772dd95b449_aug1.jpg: 416x416 (no detections), 29.8ms\n",
      "image 33/5320 /Users/anassyed/Documents/lynqo/notebooks/../datasets/Surgical-Tools-Detection-1/train_subset/images/6_Babcock_Tissue_Forceps_166_jpg.rf.50d5ee4edee73c72933101158827bb30.jpg: 416x416 1 14, 1 6, 1 7, 36.4ms\n",
      "image 34/5320 /Users/anassyed/Documents/lynqo/notebooks/../datasets/Surgical-Tools-Detection-1/train_subset/images/6_Babcock_Tissue_Forceps_179_jpg.rf.1081969a7e906929088b43ea1db94385.jpg: 416x416 1 14, 41.1ms\n",
      "image 35/5320 /Users/anassyed/Documents/lynqo/notebooks/../datasets/Surgical-Tools-Detection-1/train_subset/images/6_Babcock_Tissue_Forceps_179_jpg.rf.7b1953307895ef8fa516f2b57d0c83a4_aug1.jpg: 416x416 (no detections), 30.3ms\n",
      "image 36/5320 /Users/anassyed/Documents/lynqo/notebooks/../datasets/Surgical-Tools-Detection-1/train_subset/images/6_Babcock_Tissue_Forceps_179_jpg.rf.f15661177e64ddb696447ab5d0e289db.jpg: 416x416 1 14, 32.5ms\n",
      "image 37/5320 /Users/anassyed/Documents/lynqo/notebooks/../datasets/Surgical-Tools-Detection-1/train_subset/images/6_Babcock_Tissue_Forceps_17_jpg.rf.224eb2bb4622821a22272db465bfb028_aug0.jpg: 416x416 (no detections), 37.0ms\n",
      "image 38/5320 /Users/anassyed/Documents/lynqo/notebooks/../datasets/Surgical-Tools-Detection-1/train_subset/images/6_Babcock_Tissue_Forceps_17_jpg.rf.94f11026d39bf8eaeefdc1f1d6b6c00e.jpg: 416x416 1 14, 43.9ms\n",
      "image 39/5320 /Users/anassyed/Documents/lynqo/notebooks/../datasets/Surgical-Tools-Detection-1/train_subset/images/6_Babcock_Tissue_Forceps_17_jpg.rf.bbb2a1306d153f2bc643154571f6837d_aug1.jpg: 416x416 1 11, 37.1ms\n",
      "image 40/5320 /Users/anassyed/Documents/lynqo/notebooks/../datasets/Surgical-Tools-Detection-1/train_subset/images/6_Babcock_Tissue_Forceps_183_jpg.rf.9ae467b909992c66525aa5b981814aeb.jpg: 416x416 1 14, 41.8ms\n",
      "image 41/5320 /Users/anassyed/Documents/lynqo/notebooks/../datasets/Surgical-Tools-Detection-1/train_subset/images/6_Babcock_Tissue_Forceps_188_jpg.rf.9aa731fef2a56946f40e7c633b4df213_aug0.jpg: 416x416 (no detections), 40.6ms\n",
      "image 42/5320 /Users/anassyed/Documents/lynqo/notebooks/../datasets/Surgical-Tools-Detection-1/train_subset/images/6_Babcock_Tissue_Forceps_188_jpg.rf.c680f8a56626a65d1ea7e3c11d0d829b_aug1.jpg: 416x416 1 8, 42.6ms\n",
      "image 43/5320 /Users/anassyed/Documents/lynqo/notebooks/../datasets/Surgical-Tools-Detection-1/train_subset/images/6_Babcock_Tissue_Forceps_18_jpg.rf.c02228475c3a6633e547251132207bf3_aug0.jpg: 416x416 1 11, 31.0ms\n",
      "image 44/5320 /Users/anassyed/Documents/lynqo/notebooks/../datasets/Surgical-Tools-Detection-1/train_subset/images/6_Babcock_Tissue_Forceps_192_jpg.rf.94ce0ebc6dd70f6ed06987df21f9466d_aug1.jpg: 416x416 1 14, 1 6, 32.5ms\n",
      "image 45/5320 /Users/anassyed/Documents/lynqo/notebooks/../datasets/Surgical-Tools-Detection-1/train_subset/images/6_Babcock_Tissue_Forceps_197_jpg.rf.2d79663b08ffa58289b10d84875321ae.jpg: 416x416 1 14, 1 7, 36.9ms\n",
      "image 46/5320 /Users/anassyed/Documents/lynqo/notebooks/../datasets/Surgical-Tools-Detection-1/train_subset/images/6_Babcock_Tissue_Forceps_209_jpg.rf.9826b756c15dc7188ee517a9641fc00c_aug1.jpg: 416x416 1 11, 28.2ms\n",
      "image 47/5320 /Users/anassyed/Documents/lynqo/notebooks/../datasets/Surgical-Tools-Detection-1/train_subset/images/6_Babcock_Tissue_Forceps_213_jpg.rf.8a0fe13ee184b30bb936e0b6922293b3_aug1.jpg: 416x416 (no detections), 26.7ms\n",
      "image 48/5320 /Users/anassyed/Documents/lynqo/notebooks/../datasets/Surgical-Tools-Detection-1/train_subset/images/6_Babcock_Tissue_Forceps_219_jpg.rf.5eaa56c4bfaf0406161a7c6b24f76154_aug1.jpg: 416x416 2 11s, 30.6ms\n",
      "image 49/5320 /Users/anassyed/Documents/lynqo/notebooks/../datasets/Surgical-Tools-Detection-1/train_subset/images/6_Babcock_Tissue_Forceps_21_jpg.rf.c744ed8ead156a10e2ec66b3bb013bdf_aug0.jpg: 416x416 (no detections), 33.2ms\n",
      "image 50/5320 /Users/anassyed/Documents/lynqo/notebooks/../datasets/Surgical-Tools-Detection-1/train_subset/images/6_Babcock_Tissue_Forceps_223_jpg.rf.0bc0e30ad4ce7f4398f45928b02e45eb_aug1.jpg: 416x416 (no detections), 30.4ms\n",
      "image 51/5320 /Users/anassyed/Documents/lynqo/notebooks/../datasets/Surgical-Tools-Detection-1/train_subset/images/6_Babcock_Tissue_Forceps_224_jpg.rf.b53a9af35a1e8dfe86c80fc87d291cdf.jpg: 416x416 1 14, 35.3ms\n",
      "image 52/5320 /Users/anassyed/Documents/lynqo/notebooks/../datasets/Surgical-Tools-Detection-1/train_subset/images/6_Babcock_Tissue_Forceps_226_jpg.rf.a578212ce5185c8afcab0d6a6daac8b6_aug0.jpg: 416x416 (no detections), 30.7ms\n",
      "image 53/5320 /Users/anassyed/Documents/lynqo/notebooks/../datasets/Surgical-Tools-Detection-1/train_subset/images/6_Babcock_Tissue_Forceps_231_jpg.rf.48ee357050feac3cae2f75458203483b.jpg: 416x416 1 14, 1 7, 40.4ms\n",
      "image 54/5320 /Users/anassyed/Documents/lynqo/notebooks/../datasets/Surgical-Tools-Detection-1/train_subset/images/6_Babcock_Tissue_Forceps_231_jpg.rf.a99e37c10bfadb3316d36e74b5e506b9.jpg: 416x416 1 14, 37.5ms\n",
      "image 55/5320 /Users/anassyed/Documents/lynqo/notebooks/../datasets/Surgical-Tools-Detection-1/train_subset/images/6_Babcock_Tissue_Forceps_232_jpg.rf.5b73720b3db74195d0e242a817d0de3c.jpg: 416x416 (no detections), 40.0ms\n",
      "image 56/5320 /Users/anassyed/Documents/lynqo/notebooks/../datasets/Surgical-Tools-Detection-1/train_subset/images/6_Babcock_Tissue_Forceps_232_jpg.rf.5b73720b3db74195d0e242a817d0de3c_aug1.jpg: 416x416 (no detections), 29.5ms\n",
      "image 57/5320 /Users/anassyed/Documents/lynqo/notebooks/../datasets/Surgical-Tools-Detection-1/train_subset/images/6_Babcock_Tissue_Forceps_232_jpg.rf.7c11dda1234fbd434aaacdbd78a67527_aug1.jpg: 416x416 (no detections), 33.0ms\n",
      "image 58/5320 /Users/anassyed/Documents/lynqo/notebooks/../datasets/Surgical-Tools-Detection-1/train_subset/images/6_Babcock_Tissue_Forceps_232_jpg.rf.f97f22cfc5547fecd6d5a6bed81813f9.jpg: 416x416 (no detections), 38.6ms\n",
      "image 59/5320 /Users/anassyed/Documents/lynqo/notebooks/../datasets/Surgical-Tools-Detection-1/train_subset/images/6_Babcock_Tissue_Forceps_233_jpg.rf.f5f86f4b981e065aba1a69aaf27f7739_aug0.jpg: 416x416 1 7, 36.5ms\n",
      "image 60/5320 /Users/anassyed/Documents/lynqo/notebooks/../datasets/Surgical-Tools-Detection-1/train_subset/images/6_Babcock_Tissue_Forceps_234_jpg.rf.83b1a6bacef0c7b682ac535c9dc6ae37_aug1.jpg: 416x416 (no detections), 33.7ms\n",
      "image 61/5320 /Users/anassyed/Documents/lynqo/notebooks/../datasets/Surgical-Tools-Detection-1/train_subset/images/6_Babcock_Tissue_Forceps_238_jpg.rf.656c09f4d6fc5d3d2460b43c49898805.jpg: 416x416 (no detections), 39.1ms\n",
      "image 62/5320 /Users/anassyed/Documents/lynqo/notebooks/../datasets/Surgical-Tools-Detection-1/train_subset/images/6_Babcock_Tissue_Forceps_238_jpg.rf.6bdaf3731857d7d58bd1fb0d6f13a7c8_aug0.jpg: 416x416 (no detections), 35.1ms\n",
      "image 63/5320 /Users/anassyed/Documents/lynqo/notebooks/../datasets/Surgical-Tools-Detection-1/train_subset/images/6_Babcock_Tissue_Forceps_244_jpg.rf.010029da269c371da2e24825016c5d7b.jpg: 416x416 (no detections), 37.3ms\n",
      "image 64/5320 /Users/anassyed/Documents/lynqo/notebooks/../datasets/Surgical-Tools-Detection-1/train_subset/images/6_Babcock_Tissue_Forceps_244_jpg.rf.010029da269c371da2e24825016c5d7b_aug0.jpg: 416x416 (no detections), 33.0ms\n",
      "image 65/5320 /Users/anassyed/Documents/lynqo/notebooks/../datasets/Surgical-Tools-Detection-1/train_subset/images/6_Babcock_Tissue_Forceps_247_jpg.rf.9057e29d2a2c863fe9f5079016f7c79a_aug0.jpg: 416x416 1 7, 35.3ms\n",
      "image 66/5320 /Users/anassyed/Documents/lynqo/notebooks/../datasets/Surgical-Tools-Detection-1/train_subset/images/6_Babcock_Tissue_Forceps_250_jpg.rf.3f8a06bf7a4f498c17b80b4cf42af736_aug1.jpg: 416x416 1 11, 1 9, 38.5ms\n",
      "image 67/5320 /Users/anassyed/Documents/lynqo/notebooks/../datasets/Surgical-Tools-Detection-1/train_subset/images/6_Babcock_Tissue_Forceps_250_jpg.rf.8ddfb2dae043d485b1a456e39c45a3d6_aug0.jpg: 416x416 (no detections), 45.3ms\n",
      "image 68/5320 /Users/anassyed/Documents/lynqo/notebooks/../datasets/Surgical-Tools-Detection-1/train_subset/images/6_Babcock_Tissue_Forceps_257_jpg.rf.ff4d9bee12ea47b4a3af31d065cc91c9.jpg: 416x416 1 14, 38.3ms\n",
      "image 69/5320 /Users/anassyed/Documents/lynqo/notebooks/../datasets/Surgical-Tools-Detection-1/train_subset/images/6_Babcock_Tissue_Forceps_260_jpg.rf.ab9f477f8507429e0afad6493ac8a78a.jpg: 416x416 (no detections), 41.8ms\n",
      "image 70/5320 /Users/anassyed/Documents/lynqo/notebooks/../datasets/Surgical-Tools-Detection-1/train_subset/images/6_Babcock_Tissue_Forceps_265_jpg.rf.191d43c6f2452a790ee9a852df788da3_aug1.jpg: 416x416 (no detections), 36.1ms\n",
      "image 71/5320 /Users/anassyed/Documents/lynqo/notebooks/../datasets/Surgical-Tools-Detection-1/train_subset/images/6_Babcock_Tissue_Forceps_270_jpg.rf.f3a926d078ebd540e9a89de1859c0d1e_aug1.jpg: 416x416 1 11, 32.6ms\n",
      "image 72/5320 /Users/anassyed/Documents/lynqo/notebooks/../datasets/Surgical-Tools-Detection-1/train_subset/images/6_Babcock_Tissue_Forceps_277_jpg.rf.e989c302e9849834402887dad0fc05c1.jpg: 416x416 (no detections), 38.5ms\n",
      "image 73/5320 /Users/anassyed/Documents/lynqo/notebooks/../datasets/Surgical-Tools-Detection-1/train_subset/images/6_Babcock_Tissue_Forceps_281_jpg.rf.0ec1c067870dea4af804366783ae0e60_aug1.jpg: 416x416 1 5, 1 9, 29.4ms\n",
      "image 74/5320 /Users/anassyed/Documents/lynqo/notebooks/../datasets/Surgical-Tools-Detection-1/train_subset/images/6_Babcock_Tissue_Forceps_281_jpg.rf.b2cbf43b9c86d1b51f88420fd627a428_aug1.jpg: 416x416 (no detections), 31.7ms\n",
      "image 75/5320 /Users/anassyed/Documents/lynqo/notebooks/../datasets/Surgical-Tools-Detection-1/train_subset/images/6_Babcock_Tissue_Forceps_293_jpg.rf.169cb716e1ba814905c6b1b5876ee6b6.jpg: 416x416 1 14, 1 7, 1 8, 27.6ms\n",
      "image 76/5320 /Users/anassyed/Documents/lynqo/notebooks/../datasets/Surgical-Tools-Detection-1/train_subset/images/6_Babcock_Tissue_Forceps_295_jpg.rf.484b340730f411144aced05806978713.jpg: 416x416 1 14, 1 7, 1 8, 39.5ms\n",
      "image 77/5320 /Users/anassyed/Documents/lynqo/notebooks/../datasets/Surgical-Tools-Detection-1/train_subset/images/6_Babcock_Tissue_Forceps_301_jpg.rf.43605b3e300126a4e889d0ab5e7faf22_aug1.jpg: 416x416 (no detections), 32.2ms\n",
      "image 78/5320 /Users/anassyed/Documents/lynqo/notebooks/../datasets/Surgical-Tools-Detection-1/train_subset/images/6_Babcock_Tissue_Forceps_309_jpg.rf.1a9a5c0f14e58f88cf38b148077b5c03.jpg: 416x416 1 14, 35.6ms\n"
     ]
    },
    {
     "ename": "KeyboardInterrupt",
     "evalue": "",
     "output_type": "error",
     "traceback": [
      "\u001b[31m---------------------------------------------------------------------------\u001b[39m",
      "\u001b[31mKeyboardInterrupt\u001b[39m                         Traceback (most recent call last)",
      "\u001b[36mCell\u001b[39m\u001b[36m \u001b[39m\u001b[32mIn[32]\u001b[39m\u001b[32m, line 1\u001b[39m\n\u001b[32m----> \u001b[39m\u001b[32m1\u001b[39m results = \u001b[43mloaded_model\u001b[49m\u001b[43m.\u001b[49m\u001b[43mpredict\u001b[49m\u001b[43m(\u001b[49m\n\u001b[32m      2\u001b[39m \u001b[43m    \u001b[49m\u001b[43msource\u001b[49m\u001b[43m=\u001b[49m\u001b[38;5;28;43mstr\u001b[39;49m\u001b[43m(\u001b[49m\u001b[43msubset_img_dir\u001b[49m\u001b[43m)\u001b[49m\u001b[43m,\u001b[49m\u001b[43m  \u001b[49m\u001b[38;5;66;43;03m# path to the images directory\u001b[39;49;00m\n\u001b[32m      3\u001b[39m \u001b[43m    \u001b[49m\u001b[43mconf\u001b[49m\u001b[43m=\u001b[49m\u001b[32;43m0.25\u001b[39;49m\u001b[43m,\u001b[49m\u001b[43m                   \u001b[49m\u001b[38;5;66;43;03m# confidence threshold\u001b[39;49;00m\n\u001b[32m      4\u001b[39m \u001b[43m    \u001b[49m\u001b[43msave\u001b[49m\u001b[43m=\u001b[49m\u001b[38;5;28;43;01mTrue\u001b[39;49;00m\u001b[43m,\u001b[49m\u001b[43m                   \u001b[49m\u001b[38;5;66;43;03m# save results\u001b[39;49;00m\n\u001b[32m      5\u001b[39m \u001b[43m    \u001b[49m\u001b[43msave_txt\u001b[49m\u001b[43m=\u001b[49m\u001b[38;5;28;43;01mTrue\u001b[39;49;00m\u001b[43m,\u001b[49m\u001b[43m               \u001b[49m\u001b[38;5;66;43;03m# save results in txt format\u001b[39;49;00m\n\u001b[32m      6\u001b[39m \u001b[43m    \u001b[49m\u001b[43msave_conf\u001b[49m\u001b[43m=\u001b[49m\u001b[38;5;28;43;01mTrue\u001b[39;49;00m\u001b[43m,\u001b[49m\u001b[43m              \u001b[49m\u001b[38;5;66;43;03m# save confidence scores\u001b[39;49;00m\n\u001b[32m      7\u001b[39m \u001b[43m    \u001b[49m\u001b[43mshow\u001b[49m\u001b[43m=\u001b[49m\u001b[38;5;28;43;01mTrue\u001b[39;49;00m\u001b[43m                    \u001b[49m\u001b[38;5;66;43;03m# display results\u001b[39;49;00m\n\u001b[32m      8\u001b[39m \u001b[43m)\u001b[49m\n",
      "\u001b[36mFile \u001b[39m\u001b[32m~/Documents/lynqo/.venv/lib/python3.11/site-packages/ultralytics/engine/model.py:555\u001b[39m, in \u001b[36mModel.predict\u001b[39m\u001b[34m(self, source, stream, predictor, **kwargs)\u001b[39m\n\u001b[32m    553\u001b[39m \u001b[38;5;28;01mif\u001b[39;00m prompts \u001b[38;5;129;01mand\u001b[39;00m \u001b[38;5;28mhasattr\u001b[39m(\u001b[38;5;28mself\u001b[39m.predictor, \u001b[33m\"\u001b[39m\u001b[33mset_prompts\u001b[39m\u001b[33m\"\u001b[39m):  \u001b[38;5;66;03m# for SAM-type models\u001b[39;00m\n\u001b[32m    554\u001b[39m     \u001b[38;5;28mself\u001b[39m.predictor.set_prompts(prompts)\n\u001b[32m--> \u001b[39m\u001b[32m555\u001b[39m \u001b[38;5;28;01mreturn\u001b[39;00m \u001b[38;5;28mself\u001b[39m.predictor.predict_cli(source=source) \u001b[38;5;28;01mif\u001b[39;00m is_cli \u001b[38;5;28;01melse\u001b[39;00m \u001b[38;5;28;43mself\u001b[39;49m\u001b[43m.\u001b[49m\u001b[43mpredictor\u001b[49m\u001b[43m(\u001b[49m\u001b[43msource\u001b[49m\u001b[43m=\u001b[49m\u001b[43msource\u001b[49m\u001b[43m,\u001b[49m\u001b[43m \u001b[49m\u001b[43mstream\u001b[49m\u001b[43m=\u001b[49m\u001b[43mstream\u001b[49m\u001b[43m)\u001b[49m\n",
      "\u001b[36mFile \u001b[39m\u001b[32m~/Documents/lynqo/.venv/lib/python3.11/site-packages/ultralytics/engine/predictor.py:227\u001b[39m, in \u001b[36mBasePredictor.__call__\u001b[39m\u001b[34m(self, source, model, stream, *args, **kwargs)\u001b[39m\n\u001b[32m    225\u001b[39m     \u001b[38;5;28;01mreturn\u001b[39;00m \u001b[38;5;28mself\u001b[39m.stream_inference(source, model, *args, **kwargs)\n\u001b[32m    226\u001b[39m \u001b[38;5;28;01melse\u001b[39;00m:\n\u001b[32m--> \u001b[39m\u001b[32m227\u001b[39m     \u001b[38;5;28;01mreturn\u001b[39;00m \u001b[38;5;28;43mlist\u001b[39;49m\u001b[43m(\u001b[49m\u001b[38;5;28;43mself\u001b[39;49m\u001b[43m.\u001b[49m\u001b[43mstream_inference\u001b[49m\u001b[43m(\u001b[49m\u001b[43msource\u001b[49m\u001b[43m,\u001b[49m\u001b[43m \u001b[49m\u001b[43mmodel\u001b[49m\u001b[43m,\u001b[49m\u001b[43m \u001b[49m\u001b[43m*\u001b[49m\u001b[43margs\u001b[49m\u001b[43m,\u001b[49m\u001b[43m \u001b[49m\u001b[43m*\u001b[49m\u001b[43m*\u001b[49m\u001b[43mkwargs\u001b[49m\u001b[43m)\u001b[49m\u001b[43m)\u001b[49m\n",
      "\u001b[36mFile \u001b[39m\u001b[32m~/Documents/lynqo/.venv/lib/python3.11/site-packages/torch/utils/_contextlib.py:57\u001b[39m, in \u001b[36m_wrap_generator.<locals>.generator_context\u001b[39m\u001b[34m(*args, **kwargs)\u001b[39m\n\u001b[32m     54\u001b[39m         \u001b[38;5;28;01melse\u001b[39;00m:\n\u001b[32m     55\u001b[39m             \u001b[38;5;66;03m# Pass the last request to the generator and get its response\u001b[39;00m\n\u001b[32m     56\u001b[39m             \u001b[38;5;28;01mwith\u001b[39;00m ctx_factory():\n\u001b[32m---> \u001b[39m\u001b[32m57\u001b[39m                 response = gen.send(request)\n\u001b[32m     59\u001b[39m \u001b[38;5;66;03m# We let the exceptions raised above by the generator's `.throw` or\u001b[39;00m\n\u001b[32m     60\u001b[39m \u001b[38;5;66;03m# `.send` methods bubble up to our caller, except for StopIteration\u001b[39;00m\n\u001b[32m     61\u001b[39m \u001b[38;5;28;01mexcept\u001b[39;00m \u001b[38;5;167;01mStopIteration\u001b[39;00m \u001b[38;5;28;01mas\u001b[39;00m e:\n\u001b[32m     62\u001b[39m     \u001b[38;5;66;03m# The generator informed us that it is done: take whatever its\u001b[39;00m\n\u001b[32m     63\u001b[39m     \u001b[38;5;66;03m# returned value (if any) was and indicate that we're done too\u001b[39;00m\n\u001b[32m     64\u001b[39m     \u001b[38;5;66;03m# by returning it (see docs for python's return-statement).\u001b[39;00m\n",
      "\u001b[36mFile \u001b[39m\u001b[32m~/Documents/lynqo/.venv/lib/python3.11/site-packages/ultralytics/engine/predictor.py:350\u001b[39m, in \u001b[36mBasePredictor.stream_inference\u001b[39m\u001b[34m(self, source, model, *args, **kwargs)\u001b[39m\n\u001b[32m    344\u001b[39m     \u001b[38;5;28mself\u001b[39m.results[i].speed = {\n\u001b[32m    345\u001b[39m         \u001b[33m\"\u001b[39m\u001b[33mpreprocess\u001b[39m\u001b[33m\"\u001b[39m: profilers[\u001b[32m0\u001b[39m].dt * \u001b[32m1e3\u001b[39m / n,\n\u001b[32m    346\u001b[39m         \u001b[33m\"\u001b[39m\u001b[33minference\u001b[39m\u001b[33m\"\u001b[39m: profilers[\u001b[32m1\u001b[39m].dt * \u001b[32m1e3\u001b[39m / n,\n\u001b[32m    347\u001b[39m         \u001b[33m\"\u001b[39m\u001b[33mpostprocess\u001b[39m\u001b[33m\"\u001b[39m: profilers[\u001b[32m2\u001b[39m].dt * \u001b[32m1e3\u001b[39m / n,\n\u001b[32m    348\u001b[39m     }\n\u001b[32m    349\u001b[39m     \u001b[38;5;28;01mif\u001b[39;00m \u001b[38;5;28mself\u001b[39m.args.verbose \u001b[38;5;129;01mor\u001b[39;00m \u001b[38;5;28mself\u001b[39m.args.save \u001b[38;5;129;01mor\u001b[39;00m \u001b[38;5;28mself\u001b[39m.args.save_txt \u001b[38;5;129;01mor\u001b[39;00m \u001b[38;5;28mself\u001b[39m.args.show:\n\u001b[32m--> \u001b[39m\u001b[32m350\u001b[39m         s[i] += \u001b[38;5;28;43mself\u001b[39;49m\u001b[43m.\u001b[49m\u001b[43mwrite_results\u001b[49m\u001b[43m(\u001b[49m\u001b[43mi\u001b[49m\u001b[43m,\u001b[49m\u001b[43m \u001b[49m\u001b[43mPath\u001b[49m\u001b[43m(\u001b[49m\u001b[43mpaths\u001b[49m\u001b[43m[\u001b[49m\u001b[43mi\u001b[49m\u001b[43m]\u001b[49m\u001b[43m)\u001b[49m\u001b[43m,\u001b[49m\u001b[43m \u001b[49m\u001b[43mim\u001b[49m\u001b[43m,\u001b[49m\u001b[43m \u001b[49m\u001b[43ms\u001b[49m\u001b[43m)\u001b[49m\n\u001b[32m    352\u001b[39m \u001b[38;5;66;03m# Print batch results\u001b[39;00m\n\u001b[32m    353\u001b[39m \u001b[38;5;28;01mif\u001b[39;00m \u001b[38;5;28mself\u001b[39m.args.verbose:\n",
      "\u001b[36mFile \u001b[39m\u001b[32m~/Documents/lynqo/.venv/lib/python3.11/site-packages/ultralytics/engine/predictor.py:447\u001b[39m, in \u001b[36mBasePredictor.write_results\u001b[39m\u001b[34m(self, i, p, im, s)\u001b[39m\n\u001b[32m    445\u001b[39m     result.save_crop(save_dir=\u001b[38;5;28mself\u001b[39m.save_dir / \u001b[33m\"\u001b[39m\u001b[33mcrops\u001b[39m\u001b[33m\"\u001b[39m, file_name=\u001b[38;5;28mself\u001b[39m.txt_path.stem)\n\u001b[32m    446\u001b[39m \u001b[38;5;28;01mif\u001b[39;00m \u001b[38;5;28mself\u001b[39m.args.show:\n\u001b[32m--> \u001b[39m\u001b[32m447\u001b[39m     \u001b[38;5;28;43mself\u001b[39;49m\u001b[43m.\u001b[49m\u001b[43mshow\u001b[49m\u001b[43m(\u001b[49m\u001b[38;5;28;43mstr\u001b[39;49m\u001b[43m(\u001b[49m\u001b[43mp\u001b[49m\u001b[43m)\u001b[49m\u001b[43m)\u001b[49m\n\u001b[32m    448\u001b[39m \u001b[38;5;28;01mif\u001b[39;00m \u001b[38;5;28mself\u001b[39m.args.save:\n\u001b[32m    449\u001b[39m     \u001b[38;5;28mself\u001b[39m.save_predicted_images(\u001b[38;5;28mstr\u001b[39m(\u001b[38;5;28mself\u001b[39m.save_dir / p.name), frame)\n",
      "\u001b[36mFile \u001b[39m\u001b[32m~/Documents/lynqo/.venv/lib/python3.11/site-packages/ultralytics/engine/predictor.py:495\u001b[39m, in \u001b[36mBasePredictor.show\u001b[39m\u001b[34m(self, p)\u001b[39m\n\u001b[32m    493\u001b[39m     cv2.resizeWindow(p, im.shape[\u001b[32m1\u001b[39m], im.shape[\u001b[32m0\u001b[39m])  \u001b[38;5;66;03m# (width, height)\u001b[39;00m\n\u001b[32m    494\u001b[39m cv2.imshow(p, im)\n\u001b[32m--> \u001b[39m\u001b[32m495\u001b[39m \u001b[43mcv2\u001b[49m\u001b[43m.\u001b[49m\u001b[43mwaitKey\u001b[49m\u001b[43m(\u001b[49m\u001b[32;43m300\u001b[39;49m\u001b[43m \u001b[49m\u001b[38;5;28;43;01mif\u001b[39;49;00m\u001b[43m \u001b[49m\u001b[38;5;28;43mself\u001b[39;49m\u001b[43m.\u001b[49m\u001b[43mdataset\u001b[49m\u001b[43m.\u001b[49m\u001b[43mmode\u001b[49m\u001b[43m \u001b[49m\u001b[43m==\u001b[49m\u001b[43m \u001b[49m\u001b[33;43m\"\u001b[39;49m\u001b[33;43mimage\u001b[39;49m\u001b[33;43m\"\u001b[39;49m\u001b[43m \u001b[49m\u001b[38;5;28;43;01melse\u001b[39;49;00m\u001b[43m \u001b[49m\u001b[32;43m1\u001b[39;49m\u001b[43m)\u001b[49m\n",
      "\u001b[31mKeyboardInterrupt\u001b[39m: "
     ]
    }
   ],
   "source": [
    "results = loaded_model.predict(\n",
    "    source=str(subset_img_dir),  # path to the images directory\n",
    "    conf=0.25,                   # confidence threshold\n",
    "    save=True,                   # save results\n",
    "    save_txt=True,               # save results in txt format\n",
    "    save_conf=True,              # save confidence scores\n",
    "    show=True                    # display results\n",
    ")\n"
   ]
  },
  {
   "cell_type": "code",
   "execution_count": null,
   "id": "56e023fa",
   "metadata": {},
   "outputs": [],
   "source": [
    "\n",
    "# Display results\n",
    "for result in results:\n",
    "    print(f\"Image: {result.path}\")\n",
    "    for box in result.boxes:\n",
    "        print(f\"  Class: {box.cls}, Confidence: {box.conf:.2f}, BBox: {box.xyxy}\")  # xyxy format\n",
    "        # If you want to visualize the bounding boxes, you can use OpenCV or matplotlib here\n",
    "        # For example, using OpenCV:\n",
    "        img = cv2.imread(result.path)\n",
    "        cv2.rectangle(img, (int(box.xyxy[0]), int(box.xyxy[1])), (int(box.xyxy[2]), int(box.xyxy[3])), (255, 0, 0), 2)\n",
    "        cv2.putText(img, f\"{box.cls} {box.conf:.2f}\", (int(box.xyxy[0]), int(box.xyxy[1]) - 10), cv2.FONT_HERSHEY_SIMPLEX, 0.5, (255, 0, 0), 2)\n",
    "        cv2.imshow(\"Result\", img)\n",
    "        cv2.waitKey(0)  # Wait for a key press to close the image window\n",
    "cv2.destroyAllWindows()  # Close all OpenCV windows\n",
    "# Save the model"
   ]
  },
  {
   "cell_type": "code",
   "execution_count": 45,
   "id": "4e0d59fe",
   "metadata": {},
   "outputs": [
    {
     "data": {
      "text/plain": [
       "ultralytics.engine.results.Boxes object with attributes:\n",
       "\n",
       "cls: tensor([13.])\n",
       "conf: tensor([0.1371])\n",
       "data: tensor([[6.9766e+02, 2.6796e+02, 8.9964e+02, 4.5225e+02, 1.3706e-01, 1.3000e+01]])\n",
       "id: None\n",
       "is_track: False\n",
       "orig_shape: (580, 900)\n",
       "shape: torch.Size([1, 6])\n",
       "xywh: tensor([[798.6515, 360.1069, 201.9794, 184.2959]])\n",
       "xywhn: tensor([[0.8874, 0.6209, 0.2244, 0.3178]])\n",
       "xyxy: tensor([[697.6618, 267.9590, 899.6412, 452.2549]])\n",
       "xyxyn: tensor([[0.7752, 0.4620, 0.9996, 0.7797]])"
      ]
     },
     "execution_count": 45,
     "metadata": {},
     "output_type": "execute_result"
    }
   ],
   "source": [
    "results[0].boxes[0]"
   ]
  },
  {
   "cell_type": "code",
   "execution_count": 51,
   "id": "207db98f",
   "metadata": {},
   "outputs": [],
   "source": [
    "def predict_image(model, image_path, conf_threshold=0.1, save=True, show=True):\n",
    "    \"\"\"\n",
    "    Perform prediction on an image using a YOLO model.\n",
    "    \n",
    "    Args:\n",
    "        model: YOLO model for prediction\n",
    "        image_path (str): Path to the input image\n",
    "        conf_threshold (float): Confidence threshold for detections\n",
    "        save (bool): Whether to save the results\n",
    "        show (bool): Whether to display the results\n",
    "    \n",
    "    Returns:\n",
    "        results: YOLO prediction results\n",
    "    \"\"\"\n",
    "    results = model.predict(\n",
    "        source=image_path,\n",
    "        conf=conf_threshold,\n",
    "        save=save,\n",
    "        save_txt=True,\n",
    "        save_conf=True,\n",
    "        show=show\n",
    "    )\n",
    "    return results"
   ]
  },
  {
   "cell_type": "code",
   "execution_count": 49,
   "id": "1b49587f",
   "metadata": {},
   "outputs": [],
   "source": [
    "def display_detections(results, model):\n",
    "    \"\"\"\n",
    "    Display detected objects with their class names and confidence scores.\n",
    "    \n",
    "    Args:\n",
    "        results: YOLO detection results\n",
    "        model: YOLO model with class names mapping\n",
    "    \"\"\"\n",
    "    try:\n",
    "        # Get the names dictionary from the model\n",
    "        names = model.names\n",
    "        \n",
    "        for r in results:\n",
    "            print(f\"\\nDetections in {Path(r.path).name}:\")\n",
    "            \n",
    "            if not hasattr(r, 'boxes') or len(r.boxes) == 0:\n",
    "                print(\"No detections found.\")\n",
    "                continue\n",
    "                \n",
    "            for box in r.boxes:\n",
    "                # Get the class index and convert to class name\n",
    "                class_id = int(box.cls[0])\n",
    "                class_name = names.get(class_id, \"Unknown\")\n",
    "                confidence = float(box.conf[0])\n",
    "                \n",
    "                print(f\"- {class_name} (Confidence: {confidence:.2f})\")\n",
    "                \n",
    "    except Exception as e:\n",
    "        print(f\"Error processing detections: {str(e)}\")"
   ]
  },
  {
   "cell_type": "code",
   "execution_count": 82,
   "id": "66c2d5d4",
   "metadata": {},
   "outputs": [
    {
     "name": "stdout",
     "output_type": "stream",
     "text": [
      "\n",
      "image 1/1 /Users/anassyed/Documents/lynqo/notebooks/../datasets/stock-photo-surgical-instruments-in-instrument-tray-731922088.jpg: 320x416 1 11, 1 2, 41.1ms\n",
      "Speed: 2.6ms preprocess, 41.1ms inference, 1.0ms postprocess per image at shape (1, 3, 320, 416)\n",
      "Results saved to \u001b[1m/Users/anassyed/Documents/lynqo/runs/detect/predict\u001b[0m\n",
      "66 labels saved to /Users/anassyed/Documents/lynqo/runs/detect/predict/labels\n",
      "image 1/1 /Users/anassyed/Documents/lynqo/notebooks/../datasets/stock-photo-surgical-instruments-in-instrument-tray-731922088.jpg: 320x416 1 11, 1 2, 41.1ms\n",
      "Speed: 2.6ms preprocess, 41.1ms inference, 1.0ms postprocess per image at shape (1, 3, 320, 416)\n",
      "Results saved to \u001b[1m/Users/anassyed/Documents/lynqo/runs/detect/predict\u001b[0m\n",
      "66 labels saved to /Users/anassyed/Documents/lynqo/runs/detect/predict/labels\n"
     ]
    }
   ],
   "source": [
    "result = predict_image(loaded_model, \n",
    "              '../datasets/stock-photo-surgical-instruments-in-instrument-tray-731922088.jpg')"
   ]
  },
  {
   "cell_type": "code",
   "execution_count": 83,
   "id": "5478fad1",
   "metadata": {},
   "outputs": [
    {
     "name": "stdout",
     "output_type": "stream",
     "text": [
      "\n",
      "Detected Surgical Instruments in stock-photo-surgical-instruments-in-instrument-tray-731922088.jpg:\n",
      "--------------------------------------------------\n",
      "Instrument: Bone hook\n",
      "Confidence: 13.54%\n",
      "Location (x1,y1,x2,y2): [370.6, 485.2, 986.2, 789.5]\n",
      "--------------------------------------------------\n",
      "Instrument: Kelly hemostat (straight)\n",
      "Confidence: 13.00%\n",
      "Location (x1,y1,x2,y2): [411.2, 493.0, 938.7, 888.9]\n",
      "--------------------------------------------------\n"
     ]
    }
   ],
   "source": [
    "display_surgical_detections(result)"
   ]
  },
  {
   "cell_type": "code",
   "execution_count": 84,
   "id": "8868c4d9",
   "metadata": {},
   "outputs": [
    {
     "name": "stdout",
     "output_type": "stream",
     "text": [
      "\n",
      "image 1/1 /Users/anassyed/Documents/lynqo/notebooks/../datasets/General-Surgical-Instruments-What-Are-They-And-What-Are-They-Used-For-Medilogic-21564597.jpg: 320x416 1 5, 36.9ms\n",
      "Speed: 2.1ms preprocess, 36.9ms inference, 1.0ms postprocess per image at shape (1, 3, 320, 416)\n",
      "Results saved to \u001b[1m/Users/anassyed/Documents/lynqo/runs/detect/predict\u001b[0m\n",
      "66 labels saved to /Users/anassyed/Documents/lynqo/runs/detect/predict/labels\n",
      "image 1/1 /Users/anassyed/Documents/lynqo/notebooks/../datasets/General-Surgical-Instruments-What-Are-They-And-What-Are-They-Used-For-Medilogic-21564597.jpg: 320x416 1 5, 36.9ms\n",
      "Speed: 2.1ms preprocess, 36.9ms inference, 1.0ms postprocess per image at shape (1, 3, 320, 416)\n",
      "Results saved to \u001b[1m/Users/anassyed/Documents/lynqo/runs/detect/predict\u001b[0m\n",
      "66 labels saved to /Users/anassyed/Documents/lynqo/runs/detect/predict/labels\n"
     ]
    }
   ],
   "source": [
    "result = predict_image(loaded_model,\n",
    "              '../datasets/General-Surgical-Instruments-What-Are-They-And-What-Are-They-Used-For-Medilogic-21564597.jpg',\n",
    "              conf_threshold=0.1, save=True, show=True)"
   ]
  },
  {
   "cell_type": "code",
   "execution_count": 85,
   "id": "f88d80f5",
   "metadata": {},
   "outputs": [
    {
     "name": "stdout",
     "output_type": "stream",
     "text": [
      "Displaying detections with proper instrument names:\n",
      "\n",
      "Detected Surgical Instruments in General-Surgical-Instruments-What-Are-They-And-What-Are-They-Used-For-Medilogic-21564597.jpg:\n",
      "--------------------------------------------------\n",
      "Instrument: Kocher (Ochsner) forceps\n",
      "Confidence: 10.22%\n",
      "Location (x1,y1,x2,y2): [1127.7, 270.7, 1597.7, 872.9]\n",
      "--------------------------------------------------\n"
     ]
    }
   ],
   "source": [
    "# Test the new function with surgical instrument names\n",
    "print(\"Displaying detections with proper instrument names:\")\n",
    "display_surgical_detections(result)"
   ]
  },
  {
   "cell_type": "code",
   "execution_count": 86,
   "id": "a72da5f3",
   "metadata": {},
   "outputs": [],
   "source": [
    "def display_surgical_detections(results, SURGICAL_INSTRUMENTS=instrument_names):\n",
    "    \"\"\"\n",
    "    Display detected surgical instruments with their proper names, counts, and confidence scores.\n",
    "    \n",
    "    Args:\n",
    "        results: YOLO detection results\n",
    "    \"\"\"\n",
    "    try:\n",
    "        for r in results:\n",
    "            print(f\"\\nDetected Surgical Instruments in {Path(r.path).name}:\")\n",
    "            print(\"-\" * 50)\n",
    "            \n",
    "            if not hasattr(r, 'boxes') or len(r.boxes) == 0:\n",
    "                print(\"No instruments detected.\")\n",
    "                continue\n",
    "            \n",
    "            # Dictionary to store counts of each instrument\n",
    "            instrument_counts = {}\n",
    "            # List to store all detections\n",
    "            detections = []\n",
    "            \n",
    "            # Process all detections\n",
    "            for box in r.boxes:\n",
    "                class_id = int(box.cls[0])\n",
    "                confidence = float(box.conf[0])\n",
    "                instrument_name = SURGICAL_INSTRUMENTS.get(str(class_id), f\"Unknown Instrument (Class {class_id})\")\n",
    "                \n",
    "                # Update counts\n",
    "                instrument_counts[instrument_name] = instrument_counts.get(instrument_name, 0) + 1\n",
    "                detections.append((instrument_name, confidence, box.xyxy[0].tolist()))\n",
    "            \n",
    "            # First, display summary of counts\n",
    "            print(\"Summary of Detected Instruments:\")\n",
    "            for instrument, count in instrument_counts.items():\n",
    "                print(f\"{instrument}: {count} instance{'s' if count > 1 else ''}\")\n",
    "            print(\"-\" * 50)\n",
    "            \n",
    "            # Then show detailed information for each detection\n",
    "            print(\"\\nDetailed Detection Information:\")\n",
    "            # Sort by confidence (highest first)\n",
    "            detections.sort(key=lambda x: x[1], reverse=True)\n",
    "            \n",
    "            for instrument_name, confidence, bbox in detections:\n",
    "                print(f\"Instrument: {instrument_name}\")\n",
    "                print(f\"Confidence: {confidence:.2%}\")\n",
    "                print(f\"Location (x1,y1,x2,y2): [{bbox[0]:.1f}, {bbox[1]:.1f}, {bbox[2]:.1f}, {bbox[3]:.1f}]\")\n",
    "                print(\"-\" * 50)\n",
    "                \n",
    "    except Exception as e:\n",
    "        print(f\"Error processing detections: {str(e)}\")"
   ]
  },
  {
   "cell_type": "code",
   "execution_count": 87,
   "id": "93dd8d73",
   "metadata": {},
   "outputs": [
    {
     "name": "stdout",
     "output_type": "stream",
     "text": [
      "Displaying detections with instrument counts:\n",
      "\n",
      "Detected Surgical Instruments in General-Surgical-Instruments-What-Are-They-And-What-Are-They-Used-For-Medilogic-21564597.jpg:\n",
      "--------------------------------------------------\n",
      "Summary of Detected Instruments:\n",
      "Kocher (Ochsner) forceps: 1 instance\n",
      "--------------------------------------------------\n",
      "\n",
      "Detailed Detection Information:\n",
      "Instrument: Kocher (Ochsner) forceps\n",
      "Confidence: 10.22%\n",
      "Location (x1,y1,x2,y2): [1127.7, 270.7, 1597.7, 872.9]\n",
      "--------------------------------------------------\n"
     ]
    }
   ],
   "source": [
    "# Test the updated function with proper instrument counting\n",
    "print(\"Displaying detections with instrument counts:\")\n",
    "display_surgical_detections(result)"
   ]
  },
  {
   "cell_type": "code",
   "execution_count": 88,
   "id": "7962b38f",
   "metadata": {},
   "outputs": [
    {
     "name": "stdout",
     "output_type": "stream",
     "text": [
      "\n",
      "image 1/1 /Users/anassyed/Documents/lynqo/notebooks/../datasets/stock-photo-surgical-instruments-in-instrument-tray-731922088.jpg: 320x416 1 11, 1 2, 105.2ms\n",
      "Speed: 5.4ms preprocess, 105.2ms inference, 0.9ms postprocess per image at shape (1, 3, 320, 416)\n",
      "Results saved to \u001b[1m/Users/anassyed/Documents/lynqo/runs/detect/predict\u001b[0m\n",
      "66 labels saved to /Users/anassyed/Documents/lynqo/runs/detect/predict/labels\n",
      "\n",
      "Displaying detections for new image:\n",
      "\n",
      "Detected Surgical Instruments in stock-photo-surgical-instruments-in-instrument-tray-731922088.jpg:\n",
      "--------------------------------------------------\n",
      "Summary of Detected Instruments:\n",
      "Bone hook: 1 instance\n",
      "Kelly hemostat (straight): 1 instance\n",
      "--------------------------------------------------\n",
      "\n",
      "Detailed Detection Information:\n",
      "Instrument: Bone hook\n",
      "Confidence: 13.54%\n",
      "Location (x1,y1,x2,y2): [370.6, 485.2, 986.2, 789.5]\n",
      "--------------------------------------------------\n",
      "Instrument: Kelly hemostat (straight)\n",
      "Confidence: 13.00%\n",
      "Location (x1,y1,x2,y2): [411.2, 493.0, 938.7, 888.9]\n",
      "--------------------------------------------------\n",
      "image 1/1 /Users/anassyed/Documents/lynqo/notebooks/../datasets/stock-photo-surgical-instruments-in-instrument-tray-731922088.jpg: 320x416 1 11, 1 2, 105.2ms\n",
      "Speed: 5.4ms preprocess, 105.2ms inference, 0.9ms postprocess per image at shape (1, 3, 320, 416)\n",
      "Results saved to \u001b[1m/Users/anassyed/Documents/lynqo/runs/detect/predict\u001b[0m\n",
      "66 labels saved to /Users/anassyed/Documents/lynqo/runs/detect/predict/labels\n",
      "\n",
      "Displaying detections for new image:\n",
      "\n",
      "Detected Surgical Instruments in stock-photo-surgical-instruments-in-instrument-tray-731922088.jpg:\n",
      "--------------------------------------------------\n",
      "Summary of Detected Instruments:\n",
      "Bone hook: 1 instance\n",
      "Kelly hemostat (straight): 1 instance\n",
      "--------------------------------------------------\n",
      "\n",
      "Detailed Detection Information:\n",
      "Instrument: Bone hook\n",
      "Confidence: 13.54%\n",
      "Location (x1,y1,x2,y2): [370.6, 485.2, 986.2, 789.5]\n",
      "--------------------------------------------------\n",
      "Instrument: Kelly hemostat (straight)\n",
      "Confidence: 13.00%\n",
      "Location (x1,y1,x2,y2): [411.2, 493.0, 938.7, 888.9]\n",
      "--------------------------------------------------\n"
     ]
    }
   ],
   "source": [
    "# Test with another image\n",
    "result = predict_image(loaded_model,\n",
    "              '../datasets/stock-photo-surgical-instruments-in-instrument-tray-731922088.jpg',\n",
    "              conf_threshold=0.1, save=True, show=True)\n",
    "\n",
    "# Display the results\n",
    "print(\"\\nDisplaying detections for new image:\")\n",
    "display_surgical_detections(result)"
   ]
  }
 ],
 "metadata": {
  "kernelspec": {
   "display_name": ".venv",
   "language": "python",
   "name": "python3"
  },
  "language_info": {
   "codemirror_mode": {
    "name": "ipython",
    "version": 3
   },
   "file_extension": ".py",
   "mimetype": "text/x-python",
   "name": "python",
   "nbconvert_exporter": "python",
   "pygments_lexer": "ipython3",
   "version": "3.11.11"
  }
 },
 "nbformat": 4,
 "nbformat_minor": 5
}
